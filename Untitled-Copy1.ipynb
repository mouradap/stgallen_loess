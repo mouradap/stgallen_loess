{
 "cells": [
  {
   "cell_type": "code",
   "execution_count": 91,
   "metadata": {},
   "outputs": [
    {
     "name": "stdout",
     "output_type": "stream",
     "text": [
      "The autoreload extension is already loaded. To reload it, use:\n",
      "  %reload_ext autoreload\n"
     ]
    }
   ],
   "source": [
    "%load_ext autoreload\n",
    "%autoreload 2"
   ]
  },
  {
   "cell_type": "code",
   "execution_count": 92,
   "metadata": {},
   "outputs": [],
   "source": [
    "from methods.model_data import StGallen\n",
    "import statsmodels.api as sm\n",
    "import seaborn as sns\n",
    "from methods.preprocess import DataProcessor\n",
    "import plotly.express as px\n",
    "import matplotlib.pyplot as plt\n",
    "import pandas as pd"
   ]
  },
  {
   "cell_type": "code",
   "execution_count": 93,
   "metadata": {},
   "outputs": [],
   "source": [
    "dp = DataProcessor()"
   ]
  },
  {
   "cell_type": "code",
   "execution_count": 94,
   "metadata": {},
   "outputs": [],
   "source": [
    "data_file = 'data/weekly.csv'"
   ]
  },
  {
   "cell_type": "code",
   "execution_count": 95,
   "metadata": {},
   "outputs": [],
   "source": [
    "model = StGallen()"
   ]
  },
  {
   "cell_type": "code",
   "execution_count": 104,
   "metadata": {},
   "outputs": [],
   "source": [
    "model.preprocess(data_file, start_date='2020-08-03', end_date='2020-11-09')"
   ]
  },
  {
   "cell_type": "code",
   "execution_count": 103,
   "metadata": {
    "scrolled": false
   },
   "outputs": [
    {
     "data": {
      "application/vnd.plotly.v1+json": {
       "config": {
        "plotlyServerURL": "https://plot.ly"
       },
       "data": [
        {
         "line": {
          "color": "rgb(41, 24, 107)"
         },
         "mode": "markers",
         "name": "Sore Throat Scatter",
         "showlegend": false,
         "type": "scatter",
         "x": [
          0,
          1,
          2,
          3,
          4,
          5,
          6,
          7,
          8,
          9,
          10,
          11,
          12,
          13,
          14
         ],
         "y": [
          0.03735325506937033,
          0.03402854006586169,
          0.02786624203821656,
          0.027050610820244327,
          0.033814432989690724,
          0.04077429983525535,
          0.03711426188490409,
          0.04147843942505133,
          0.0377992440151197,
          0.043353783231083846,
          0.04323458767013611,
          0.04531835205992509,
          0.07446808510638298,
          0.062246777163904234,
          0.06008921542902126
         ]
        },
        {
         "line": {
          "width": 2
         },
         "marker": {
          "color": "rgb(41, 24, 107)"
         },
         "mode": "lines",
         "name": "Sore Throat",
         "showlegend": true,
         "type": "scatter",
         "x": [
          0,
          1,
          2,
          3,
          4,
          5,
          6,
          7,
          8,
          9,
          10,
          11,
          12,
          13,
          14
         ],
         "y": [
          0.0357,
          0.033,
          0.0319,
          0.0319,
          0.0339,
          0.0367,
          0.0386,
          0.04,
          0.0398,
          0.0407,
          0.0463,
          0.0523,
          0.057,
          0.0616,
          0.0657
         ]
        },
        {
         "fillcolor": "rgba(41, 24, 107,0.3)",
         "line": {
          "width": 0
         },
         "marker": {
          "color": "rgb(41, 24, 107)"
         },
         "mode": "lines",
         "name": "Sore Throat Upper Bound",
         "showlegend": false,
         "type": "scatter",
         "x": [
          0,
          1,
          2,
          3,
          4,
          5,
          6,
          7,
          8,
          9,
          10,
          11,
          12,
          13,
          14
         ],
         "y": [
          0.0486,
          0.0413,
          0.039,
          0.0394,
          0.0417,
          0.0451,
          0.0463,
          0.0484,
          0.0475,
          0.0491,
          0.0542,
          0.0598,
          0.064,
          0.0699,
          0.0787
         ]
        },
        {
         "fill": "tonexty",
         "fillcolor": "rgba(41, 24, 107,0.3)",
         "line": {
          "width": 0
         },
         "marker": {
          "color": "rgb(41, 24, 107)"
         },
         "mode": "lines",
         "name": "Sore Throat Lower Bound",
         "showlegend": false,
         "type": "scatter",
         "x": [
          0,
          1,
          2,
          3,
          4,
          5,
          6,
          7,
          8,
          9,
          10,
          11,
          12,
          13,
          14
         ],
         "y": [
          0.0227,
          0.0247,
          0.0248,
          0.0244,
          0.026,
          0.0283,
          0.0308,
          0.0316,
          0.032,
          0.0323,
          0.0384,
          0.0448,
          0.0499,
          0.0533,
          0.0528
         ]
        },
        {
         "line": {
          "color": "rgb(42, 35, 160)"
         },
         "mode": "markers",
         "name": "Cough Scatter",
         "showlegend": false,
         "type": "scatter",
         "x": [
          0,
          1,
          2,
          3,
          4,
          5,
          6,
          7,
          8,
          9,
          10,
          11,
          12,
          13,
          14
         ],
         "y": [
          0.0288153681963714,
          0.019392608854738383,
          0.016719745222929936,
          0.01832460732984293,
          0.023917525773195877,
          0.02182866556836903,
          0.027522935779816515,
          0.029568788501026694,
          0.026879462410751787,
          0.033128834355828224,
          0.0344275420336269,
          0.03520599250936329,
          0.05087881591119334,
          0.04419889502762431,
          0.05116767252689583
         ]
        },
        {
         "line": {
          "width": 2
         },
         "marker": {
          "color": "rgb(42, 35, 160)"
         },
         "mode": "lines",
         "name": "Cough",
         "showlegend": true,
         "type": "scatter",
         "x": [
          0,
          1,
          2,
          3,
          4,
          5,
          6,
          7,
          8,
          9,
          10,
          11,
          12,
          13,
          14
         ],
         "y": [
          0.0255,
          0.0221,
          0.0204,
          0.0199,
          0.0215,
          0.0241,
          0.0261,
          0.028,
          0.0294,
          0.0314,
          0.0349,
          0.0389,
          0.0428,
          0.0471,
          0.0516
         ]
        },
        {
         "fillcolor": "rgba(42, 35, 160,0.3)",
         "line": {
          "width": 0
         },
         "marker": {
          "color": "rgb(42, 35, 160)"
         },
         "mode": "lines",
         "name": "Cough Upper Bound",
         "showlegend": false,
         "type": "scatter",
         "x": [
          0,
          1,
          2,
          3,
          4,
          5,
          6,
          7,
          8,
          9,
          10,
          11,
          12,
          13,
          14
         ],
         "y": [
          0.0327,
          0.0268,
          0.0243,
          0.0241,
          0.0259,
          0.0288,
          0.0304,
          0.0327,
          0.0338,
          0.036,
          0.0393,
          0.0431,
          0.0468,
          0.0518,
          0.0588
         ]
        },
        {
         "fill": "tonexty",
         "fillcolor": "rgba(42, 35, 160,0.3)",
         "line": {
          "width": 0
         },
         "marker": {
          "color": "rgb(42, 35, 160)"
         },
         "mode": "lines",
         "name": "Cough Lower Bound",
         "showlegend": false,
         "type": "scatter",
         "x": [
          0,
          1,
          2,
          3,
          4,
          5,
          6,
          7,
          8,
          9,
          10,
          11,
          12,
          13,
          14
         ],
         "y": [
          0.0183,
          0.0175,
          0.0164,
          0.0157,
          0.0172,
          0.0195,
          0.0218,
          0.0233,
          0.0251,
          0.0267,
          0.0305,
          0.0347,
          0.0389,
          0.0425,
          0.0444
         ]
        },
        {
         "line": {
          "color": "rgb(15, 71, 153)"
         },
         "mode": "markers",
         "name": "Shortness of Breath Scatter",
         "showlegend": false,
         "type": "scatter",
         "x": [
          0,
          1,
          2,
          3,
          4,
          5,
          6,
          7,
          8,
          9,
          10,
          11,
          12,
          13,
          14
         ],
         "y": [
          0.0048025613660619,
          0.003658982802780827,
          0.002786624203821656,
          0.0013089005235602095,
          0.002061855670103093,
          0.002059308072487644,
          0.0050041701417848205,
          0.0024640657084188913,
          0.004199916001679967,
          0.00408997955010225,
          0.0040032025620496394,
          0.007116104868913857,
          0.00786308973172988,
          0.0077348066298342545,
          0.010758331146680662
         ]
        },
        {
         "line": {
          "width": 2
         },
         "marker": {
          "color": "rgb(15, 71, 153)"
         },
         "mode": "lines",
         "name": "Shortness of Breath",
         "showlegend": true,
         "type": "scatter",
         "x": [
          0,
          1,
          2,
          3,
          4,
          5,
          6,
          7,
          8,
          9,
          10,
          11,
          12,
          13,
          14
         ],
         "y": [
          0.0047,
          0.0035,
          0.0027,
          0.0023,
          0.0023,
          0.0026,
          0.0031,
          0.0036,
          0.0038,
          0.0041,
          0.005,
          0.006,
          0.0073,
          0.0088,
          0.0104
         ]
        },
        {
         "fillcolor": "rgba(15, 71, 153,0.3)",
         "line": {
          "width": 0
         },
         "marker": {
          "color": "rgb(15, 71, 153)"
         },
         "mode": "lines",
         "name": "Shortness of Breath Upper Bound",
         "showlegend": false,
         "type": "scatter",
         "x": [
          0,
          1,
          2,
          3,
          4,
          5,
          6,
          7,
          8,
          9,
          10,
          11,
          12,
          13,
          14
         ],
         "y": [
          0.0066,
          0.0047,
          0.0037,
          0.0034,
          0.0034,
          0.0038,
          0.0042,
          0.0048,
          0.0049,
          0.0053,
          0.0061,
          0.0071,
          0.0083,
          0.01,
          0.0123
         ]
        },
        {
         "fill": "tonexty",
         "fillcolor": "rgba(15, 71, 153,0.3)",
         "line": {
          "width": 0
         },
         "marker": {
          "color": "rgb(15, 71, 153)"
         },
         "mode": "lines",
         "name": "Shortness of Breath Lower Bound",
         "showlegend": false,
         "type": "scatter",
         "x": [
          0,
          1,
          2,
          3,
          4,
          5,
          6,
          7,
          8,
          9,
          10,
          11,
          12,
          13,
          14
         ],
         "y": [
          0.0028,
          0.0023,
          0.0017,
          0.0012,
          0.0011,
          0.0014,
          0.002,
          0.0024,
          0.0027,
          0.0029,
          0.0038,
          0.0049,
          0.0062,
          0.0075,
          0.0086
         ]
        },
        {
         "line": {
          "color": "rgb(18, 95, 142)"
         },
         "mode": "markers",
         "name": "Fever Scatter",
         "showlegend": false,
         "type": "scatter",
         "x": [
          0,
          1,
          2,
          3,
          4,
          5,
          6,
          7,
          8,
          9,
          10,
          11,
          12,
          13,
          14
         ],
         "y": [
          0.0032017075773745998,
          0.0043907793633369925,
          0.002786624203821656,
          0.0013089005235602095,
          0.006185567010309278,
          0.0032948929159802307,
          0.0012510425354462051,
          0.0032854209445585215,
          0.00251994960100798,
          0.0036809815950920245,
          0.0020016012810248197,
          0.0052434456928838954,
          0.006012950971322849,
          0.00847145488029466,
          0.008134347940173182
         ]
        },
        {
         "line": {
          "width": 2
         },
         "marker": {
          "color": "rgb(18, 95, 142)"
         },
         "mode": "lines",
         "name": "Fever",
         "showlegend": true,
         "type": "scatter",
         "x": [
          0,
          1,
          2,
          3,
          4,
          5,
          6,
          7,
          8,
          9,
          10,
          11,
          12,
          13,
          14
         ],
         "y": [
          0.0034,
          0.0034,
          0.0034,
          0.0034,
          0.0033,
          0.0032,
          0.0029,
          0.0025,
          0.0026,
          0.0029,
          0.0037,
          0.0047,
          0.0059,
          0.0073,
          0.0089
         ]
        },
        {
         "fillcolor": "rgba(18, 95, 142,0.3)",
         "line": {
          "width": 0
         },
         "marker": {
          "color": "rgb(18, 95, 142)"
         },
         "mode": "lines",
         "name": "Fever Upper Bound",
         "showlegend": false,
         "type": "scatter",
         "x": [
          0,
          1,
          2,
          3,
          4,
          5,
          6,
          7,
          8,
          9,
          10,
          11,
          12,
          13,
          14
         ],
         "y": [
          0.0062,
          0.0053,
          0.005,
          0.005,
          0.0051,
          0.0051,
          0.0046,
          0.0044,
          0.0043,
          0.0047,
          0.0054,
          0.0064,
          0.0075,
          0.0091,
          0.0118
         ]
        },
        {
         "fill": "tonexty",
         "fillcolor": "rgba(18, 95, 142,0.3)",
         "line": {
          "width": 0
         },
         "marker": {
          "color": "rgb(18, 95, 142)"
         },
         "mode": "lines",
         "name": "Fever Lower Bound",
         "showlegend": false,
         "type": "scatter",
         "x": [
          0,
          1,
          2,
          3,
          4,
          5,
          6,
          7,
          8,
          9,
          10,
          11,
          12,
          13,
          14
         ],
         "y": [
          0.0005,
          0.0016,
          0.0019,
          0.0017,
          0.0016,
          0.0014,
          0.0012,
          0.0007,
          0.0008,
          0.0011,
          0.002,
          0.0031,
          0.0044,
          0.0055,
          0.0061
         ]
        },
        {
         "line": {
          "color": "rgb(38, 116, 137)"
         },
         "mode": "markers",
         "name": "Limb Muscle Pain Scatter",
         "showlegend": false,
         "type": "scatter",
         "x": [
          0,
          1,
          2,
          3,
          4,
          5,
          6,
          7,
          8,
          9,
          10,
          11,
          12,
          13,
          14
         ],
         "y": [
          0.017609391675560297,
          0.017197219173069888,
          0.009554140127388535,
          0.012652705061082025,
          0.015257731958762887,
          0.019769357495881382,
          0.01626355296080067,
          0.015605749486652977,
          0.014699706005879883,
          0.0212678936605317,
          0.018414731785428344,
          0.023220973782771534,
          0.03469010175763182,
          0.034990791896869246,
          0.03804775649435844
         ]
        },
        {
         "line": {
          "width": 2
         },
         "marker": {
          "color": "rgb(38, 116, 137)"
         },
         "mode": "lines",
         "name": "Limb Muscle Pain",
         "showlegend": true,
         "type": "scatter",
         "x": [
          0,
          1,
          2,
          3,
          4,
          5,
          6,
          7,
          8,
          9,
          10,
          11,
          12,
          13,
          14
         ],
         "y": [
          0.0167,
          0.0153,
          0.0146,
          0.0144,
          0.0153,
          0.0165,
          0.0166,
          0.0166,
          0.0166,
          0.0176,
          0.021,
          0.0251,
          0.0295,
          0.0344,
          0.0399
         ]
        },
        {
         "fillcolor": "rgba(38, 116, 137,0.3)",
         "line": {
          "width": 0
         },
         "marker": {
          "color": "rgb(38, 116, 137)"
         },
         "mode": "lines",
         "name": "Limb Muscle Pain Upper Bound",
         "showlegend": false,
         "type": "scatter",
         "x": [
          0,
          1,
          2,
          3,
          4,
          5,
          6,
          7,
          8,
          9,
          10,
          11,
          12,
          13,
          14
         ],
         "y": [
          0.0227,
          0.0191,
          0.0179,
          0.018,
          0.019,
          0.0204,
          0.0202,
          0.0205,
          0.0203,
          0.0215,
          0.0247,
          0.0287,
          0.0328,
          0.0383,
          0.046
         ]
        },
        {
         "fill": "tonexty",
         "fillcolor": "rgba(38, 116, 137,0.3)",
         "line": {
          "width": 0
         },
         "marker": {
          "color": "rgb(38, 116, 137)"
         },
         "mode": "lines",
         "name": "Limb Muscle Pain Lower Bound",
         "showlegend": false,
         "type": "scatter",
         "x": [
          0,
          1,
          2,
          3,
          4,
          5,
          6,
          7,
          8,
          9,
          10,
          11,
          12,
          13,
          14
         ],
         "y": [
          0.0106,
          0.0114,
          0.0113,
          0.0109,
          0.0116,
          0.0126,
          0.013,
          0.0127,
          0.013,
          0.0137,
          0.0173,
          0.0216,
          0.0262,
          0.0306,
          0.0338
         ]
        },
        {
         "line": {
          "color": "rgb(53, 136, 136)"
         },
         "mode": "markers",
         "name": "Loss of Taste and Smell Scatter",
         "showlegend": false,
         "type": "scatter",
         "x": [
          0,
          1,
          2,
          3,
          4,
          5,
          6,
          7,
          8,
          9,
          10,
          11,
          12,
          13,
          14
         ],
         "y": [
          0.003735325506937033,
          0.004756677643615075,
          0.004777070063694267,
          0.0017452006980802793,
          0.0070103092783505155,
          0.0032948929159802307,
          0.0037531276063386154,
          0.004106776180698152,
          0.0029399412011759767,
          0.0036809815950920245,
          0.004403522818254604,
          0.006741573033707865,
          0.013876040703052728,
          0.013996316758747698,
          0.020467069010758333
         ]
        },
        {
         "line": {
          "width": 2
         },
         "marker": {
          "color": "rgb(53, 136, 136)"
         },
         "mode": "lines",
         "name": "Loss of Taste and Smell",
         "showlegend": true,
         "type": "scatter",
         "x": [
          0,
          1,
          2,
          3,
          4,
          5,
          6,
          7,
          8,
          9,
          10,
          11,
          12,
          13,
          14
         ],
         "y": [
          0.004,
          0.0042,
          0.0043,
          0.0043,
          0.0043,
          0.0042,
          0.0038,
          0.0035,
          0.0032,
          0.0035,
          0.0052,
          0.0078,
          0.0111,
          0.0153,
          0.0204
         ]
        },
        {
         "fillcolor": "rgba(53, 136, 136,0.3)",
         "line": {
          "width": 0
         },
         "marker": {
          "color": "rgb(53, 136, 136)"
         },
         "mode": "lines",
         "name": "Loss of Taste and Smell Upper Bound",
         "showlegend": false,
         "type": "scatter",
         "x": [
          0,
          1,
          2,
          3,
          4,
          5,
          6,
          7,
          8,
          9,
          10,
          11,
          12,
          13,
          14
         ],
         "y": [
          0.0071,
          0.0062,
          0.006,
          0.0061,
          0.0062,
          0.0062,
          0.0057,
          0.0055,
          0.005,
          0.0056,
          0.0071,
          0.0096,
          0.0128,
          0.0173,
          0.0235
         ]
        },
        {
         "fill": "tonexty",
         "fillcolor": "rgba(53, 136, 136,0.3)",
         "line": {
          "width": 0
         },
         "marker": {
          "color": "rgb(53, 136, 136)"
         },
         "mode": "lines",
         "name": "Loss of Taste and Smell Lower Bound",
         "showlegend": false,
         "type": "scatter",
         "x": [
          0,
          1,
          2,
          3,
          4,
          5,
          6,
          7,
          8,
          9,
          10,
          11,
          12,
          13,
          14
         ],
         "y": [
          0.0009,
          0.0022,
          0.0026,
          0.0025,
          0.0024,
          0.0022,
          0.002,
          0.0014,
          0.0013,
          0.0015,
          0.0033,
          0.006,
          0.0094,
          0.0133,
          0.0173
         ]
        },
        {
         "line": {
          "color": "rgb(65, 157, 133)"
         },
         "mode": "markers",
         "name": "FOPH Scatter",
         "showlegend": false,
         "type": "scatter",
         "x": [
          0,
          1,
          2,
          3,
          4,
          5,
          6,
          7,
          8,
          9,
          10,
          11,
          12,
          13,
          14
         ],
         "y": [
          0.0528281750266809,
          0.041346505671423346,
          0.03662420382165605,
          0.03664921465968586,
          0.04865979381443299,
          0.051482701812191105,
          0.05087572977481234,
          0.052566735112936344,
          0.051658966820663586,
          0.05889570552147239,
          0.06084867894315452,
          0.062172284644194754,
          0.09620721554116558,
          0.08802946593001841,
          0.09131461558646024
         ]
        },
        {
         "line": {
          "width": 2
         },
         "marker": {
          "color": "rgb(65, 157, 133)"
         },
         "mode": "lines",
         "name": "FOPH",
         "showlegend": true,
         "type": "scatter",
         "x": [
          0,
          1,
          2,
          3,
          4,
          5,
          6,
          7,
          8,
          9,
          10,
          11,
          12,
          13,
          14
         ],
         "y": [
          0.0479,
          0.0442,
          0.0425,
          0.0425,
          0.0453,
          0.0492,
          0.0511,
          0.0527,
          0.0534,
          0.0557,
          0.0629,
          0.0712,
          0.079,
          0.0875,
          0.0964
         ]
        },
        {
         "fillcolor": "rgba(65, 157, 133,0.3)",
         "line": {
          "width": 0
         },
         "marker": {
          "color": "rgb(65, 157, 133)"
         },
         "mode": "lines",
         "name": "FOPH Upper Bound",
         "showlegend": false,
         "type": "scatter",
         "x": [
          0,
          1,
          2,
          3,
          4,
          5,
          6,
          7,
          8,
          9,
          10,
          11,
          12,
          13,
          14
         ],
         "y": [
          0.0618,
          0.053,
          0.0501,
          0.0506,
          0.0537,
          0.0582,
          0.0594,
          0.0616,
          0.0617,
          0.0646,
          0.0713,
          0.0792,
          0.0866,
          0.0964,
          0.1102
         ]
        },
        {
         "fill": "tonexty",
         "fillcolor": "rgba(65, 157, 133,0.3)",
         "line": {
          "width": 0
         },
         "marker": {
          "color": "rgb(65, 157, 133)"
         },
         "mode": "lines",
         "name": "FOPH Lower Bound",
         "showlegend": false,
         "type": "scatter",
         "x": [
          0,
          1,
          2,
          3,
          4,
          5,
          6,
          7,
          8,
          9,
          10,
          11,
          12,
          13,
          14
         ],
         "y": [
          0.0341,
          0.0353,
          0.035,
          0.0345,
          0.0369,
          0.0402,
          0.0428,
          0.0437,
          0.0451,
          0.0467,
          0.0545,
          0.0632,
          0.0715,
          0.0787,
          0.0826
         ]
        }
       ],
       "layout": {
        "template": {
         "data": {
          "bar": [
           {
            "error_x": {
             "color": "#2a3f5f"
            },
            "error_y": {
             "color": "#2a3f5f"
            },
            "marker": {
             "line": {
              "color": "#E5ECF6",
              "width": 0.5
             }
            },
            "type": "bar"
           }
          ],
          "barpolar": [
           {
            "marker": {
             "line": {
              "color": "#E5ECF6",
              "width": 0.5
             }
            },
            "type": "barpolar"
           }
          ],
          "carpet": [
           {
            "aaxis": {
             "endlinecolor": "#2a3f5f",
             "gridcolor": "white",
             "linecolor": "white",
             "minorgridcolor": "white",
             "startlinecolor": "#2a3f5f"
            },
            "baxis": {
             "endlinecolor": "#2a3f5f",
             "gridcolor": "white",
             "linecolor": "white",
             "minorgridcolor": "white",
             "startlinecolor": "#2a3f5f"
            },
            "type": "carpet"
           }
          ],
          "choropleth": [
           {
            "colorbar": {
             "outlinewidth": 0,
             "ticks": ""
            },
            "type": "choropleth"
           }
          ],
          "contour": [
           {
            "colorbar": {
             "outlinewidth": 0,
             "ticks": ""
            },
            "colorscale": [
             [
              0,
              "#0d0887"
             ],
             [
              0.1111111111111111,
              "#46039f"
             ],
             [
              0.2222222222222222,
              "#7201a8"
             ],
             [
              0.3333333333333333,
              "#9c179e"
             ],
             [
              0.4444444444444444,
              "#bd3786"
             ],
             [
              0.5555555555555556,
              "#d8576b"
             ],
             [
              0.6666666666666666,
              "#ed7953"
             ],
             [
              0.7777777777777778,
              "#fb9f3a"
             ],
             [
              0.8888888888888888,
              "#fdca26"
             ],
             [
              1,
              "#f0f921"
             ]
            ],
            "type": "contour"
           }
          ],
          "contourcarpet": [
           {
            "colorbar": {
             "outlinewidth": 0,
             "ticks": ""
            },
            "type": "contourcarpet"
           }
          ],
          "heatmap": [
           {
            "colorbar": {
             "outlinewidth": 0,
             "ticks": ""
            },
            "colorscale": [
             [
              0,
              "#0d0887"
             ],
             [
              0.1111111111111111,
              "#46039f"
             ],
             [
              0.2222222222222222,
              "#7201a8"
             ],
             [
              0.3333333333333333,
              "#9c179e"
             ],
             [
              0.4444444444444444,
              "#bd3786"
             ],
             [
              0.5555555555555556,
              "#d8576b"
             ],
             [
              0.6666666666666666,
              "#ed7953"
             ],
             [
              0.7777777777777778,
              "#fb9f3a"
             ],
             [
              0.8888888888888888,
              "#fdca26"
             ],
             [
              1,
              "#f0f921"
             ]
            ],
            "type": "heatmap"
           }
          ],
          "heatmapgl": [
           {
            "colorbar": {
             "outlinewidth": 0,
             "ticks": ""
            },
            "colorscale": [
             [
              0,
              "#0d0887"
             ],
             [
              0.1111111111111111,
              "#46039f"
             ],
             [
              0.2222222222222222,
              "#7201a8"
             ],
             [
              0.3333333333333333,
              "#9c179e"
             ],
             [
              0.4444444444444444,
              "#bd3786"
             ],
             [
              0.5555555555555556,
              "#d8576b"
             ],
             [
              0.6666666666666666,
              "#ed7953"
             ],
             [
              0.7777777777777778,
              "#fb9f3a"
             ],
             [
              0.8888888888888888,
              "#fdca26"
             ],
             [
              1,
              "#f0f921"
             ]
            ],
            "type": "heatmapgl"
           }
          ],
          "histogram": [
           {
            "marker": {
             "colorbar": {
              "outlinewidth": 0,
              "ticks": ""
             }
            },
            "type": "histogram"
           }
          ],
          "histogram2d": [
           {
            "colorbar": {
             "outlinewidth": 0,
             "ticks": ""
            },
            "colorscale": [
             [
              0,
              "#0d0887"
             ],
             [
              0.1111111111111111,
              "#46039f"
             ],
             [
              0.2222222222222222,
              "#7201a8"
             ],
             [
              0.3333333333333333,
              "#9c179e"
             ],
             [
              0.4444444444444444,
              "#bd3786"
             ],
             [
              0.5555555555555556,
              "#d8576b"
             ],
             [
              0.6666666666666666,
              "#ed7953"
             ],
             [
              0.7777777777777778,
              "#fb9f3a"
             ],
             [
              0.8888888888888888,
              "#fdca26"
             ],
             [
              1,
              "#f0f921"
             ]
            ],
            "type": "histogram2d"
           }
          ],
          "histogram2dcontour": [
           {
            "colorbar": {
             "outlinewidth": 0,
             "ticks": ""
            },
            "colorscale": [
             [
              0,
              "#0d0887"
             ],
             [
              0.1111111111111111,
              "#46039f"
             ],
             [
              0.2222222222222222,
              "#7201a8"
             ],
             [
              0.3333333333333333,
              "#9c179e"
             ],
             [
              0.4444444444444444,
              "#bd3786"
             ],
             [
              0.5555555555555556,
              "#d8576b"
             ],
             [
              0.6666666666666666,
              "#ed7953"
             ],
             [
              0.7777777777777778,
              "#fb9f3a"
             ],
             [
              0.8888888888888888,
              "#fdca26"
             ],
             [
              1,
              "#f0f921"
             ]
            ],
            "type": "histogram2dcontour"
           }
          ],
          "mesh3d": [
           {
            "colorbar": {
             "outlinewidth": 0,
             "ticks": ""
            },
            "type": "mesh3d"
           }
          ],
          "parcoords": [
           {
            "line": {
             "colorbar": {
              "outlinewidth": 0,
              "ticks": ""
             }
            },
            "type": "parcoords"
           }
          ],
          "pie": [
           {
            "automargin": true,
            "type": "pie"
           }
          ],
          "scatter": [
           {
            "marker": {
             "colorbar": {
              "outlinewidth": 0,
              "ticks": ""
             }
            },
            "type": "scatter"
           }
          ],
          "scatter3d": [
           {
            "line": {
             "colorbar": {
              "outlinewidth": 0,
              "ticks": ""
             }
            },
            "marker": {
             "colorbar": {
              "outlinewidth": 0,
              "ticks": ""
             }
            },
            "type": "scatter3d"
           }
          ],
          "scattercarpet": [
           {
            "marker": {
             "colorbar": {
              "outlinewidth": 0,
              "ticks": ""
             }
            },
            "type": "scattercarpet"
           }
          ],
          "scattergeo": [
           {
            "marker": {
             "colorbar": {
              "outlinewidth": 0,
              "ticks": ""
             }
            },
            "type": "scattergeo"
           }
          ],
          "scattergl": [
           {
            "marker": {
             "colorbar": {
              "outlinewidth": 0,
              "ticks": ""
             }
            },
            "type": "scattergl"
           }
          ],
          "scattermapbox": [
           {
            "marker": {
             "colorbar": {
              "outlinewidth": 0,
              "ticks": ""
             }
            },
            "type": "scattermapbox"
           }
          ],
          "scatterpolar": [
           {
            "marker": {
             "colorbar": {
              "outlinewidth": 0,
              "ticks": ""
             }
            },
            "type": "scatterpolar"
           }
          ],
          "scatterpolargl": [
           {
            "marker": {
             "colorbar": {
              "outlinewidth": 0,
              "ticks": ""
             }
            },
            "type": "scatterpolargl"
           }
          ],
          "scatterternary": [
           {
            "marker": {
             "colorbar": {
              "outlinewidth": 0,
              "ticks": ""
             }
            },
            "type": "scatterternary"
           }
          ],
          "surface": [
           {
            "colorbar": {
             "outlinewidth": 0,
             "ticks": ""
            },
            "colorscale": [
             [
              0,
              "#0d0887"
             ],
             [
              0.1111111111111111,
              "#46039f"
             ],
             [
              0.2222222222222222,
              "#7201a8"
             ],
             [
              0.3333333333333333,
              "#9c179e"
             ],
             [
              0.4444444444444444,
              "#bd3786"
             ],
             [
              0.5555555555555556,
              "#d8576b"
             ],
             [
              0.6666666666666666,
              "#ed7953"
             ],
             [
              0.7777777777777778,
              "#fb9f3a"
             ],
             [
              0.8888888888888888,
              "#fdca26"
             ],
             [
              1,
              "#f0f921"
             ]
            ],
            "type": "surface"
           }
          ],
          "table": [
           {
            "cells": {
             "fill": {
              "color": "#EBF0F8"
             },
             "line": {
              "color": "white"
             }
            },
            "header": {
             "fill": {
              "color": "#C8D4E3"
             },
             "line": {
              "color": "white"
             }
            },
            "type": "table"
           }
          ]
         },
         "layout": {
          "annotationdefaults": {
           "arrowcolor": "#2a3f5f",
           "arrowhead": 0,
           "arrowwidth": 1
          },
          "autotypenumbers": "strict",
          "coloraxis": {
           "colorbar": {
            "outlinewidth": 0,
            "ticks": ""
           }
          },
          "colorscale": {
           "diverging": [
            [
             0,
             "#8e0152"
            ],
            [
             0.1,
             "#c51b7d"
            ],
            [
             0.2,
             "#de77ae"
            ],
            [
             0.3,
             "#f1b6da"
            ],
            [
             0.4,
             "#fde0ef"
            ],
            [
             0.5,
             "#f7f7f7"
            ],
            [
             0.6,
             "#e6f5d0"
            ],
            [
             0.7,
             "#b8e186"
            ],
            [
             0.8,
             "#7fbc41"
            ],
            [
             0.9,
             "#4d9221"
            ],
            [
             1,
             "#276419"
            ]
           ],
           "sequential": [
            [
             0,
             "#0d0887"
            ],
            [
             0.1111111111111111,
             "#46039f"
            ],
            [
             0.2222222222222222,
             "#7201a8"
            ],
            [
             0.3333333333333333,
             "#9c179e"
            ],
            [
             0.4444444444444444,
             "#bd3786"
            ],
            [
             0.5555555555555556,
             "#d8576b"
            ],
            [
             0.6666666666666666,
             "#ed7953"
            ],
            [
             0.7777777777777778,
             "#fb9f3a"
            ],
            [
             0.8888888888888888,
             "#fdca26"
            ],
            [
             1,
             "#f0f921"
            ]
           ],
           "sequentialminus": [
            [
             0,
             "#0d0887"
            ],
            [
             0.1111111111111111,
             "#46039f"
            ],
            [
             0.2222222222222222,
             "#7201a8"
            ],
            [
             0.3333333333333333,
             "#9c179e"
            ],
            [
             0.4444444444444444,
             "#bd3786"
            ],
            [
             0.5555555555555556,
             "#d8576b"
            ],
            [
             0.6666666666666666,
             "#ed7953"
            ],
            [
             0.7777777777777778,
             "#fb9f3a"
            ],
            [
             0.8888888888888888,
             "#fdca26"
            ],
            [
             1,
             "#f0f921"
            ]
           ]
          },
          "colorway": [
           "#636efa",
           "#EF553B",
           "#00cc96",
           "#ab63fa",
           "#FFA15A",
           "#19d3f3",
           "#FF6692",
           "#B6E880",
           "#FF97FF",
           "#FECB52"
          ],
          "font": {
           "color": "#2a3f5f"
          },
          "geo": {
           "bgcolor": "white",
           "lakecolor": "white",
           "landcolor": "#E5ECF6",
           "showlakes": true,
           "showland": true,
           "subunitcolor": "white"
          },
          "hoverlabel": {
           "align": "left"
          },
          "hovermode": "closest",
          "mapbox": {
           "style": "light"
          },
          "paper_bgcolor": "white",
          "plot_bgcolor": "#E5ECF6",
          "polar": {
           "angularaxis": {
            "gridcolor": "white",
            "linecolor": "white",
            "ticks": ""
           },
           "bgcolor": "#E5ECF6",
           "radialaxis": {
            "gridcolor": "white",
            "linecolor": "white",
            "ticks": ""
           }
          },
          "scene": {
           "xaxis": {
            "backgroundcolor": "#E5ECF6",
            "gridcolor": "white",
            "gridwidth": 2,
            "linecolor": "white",
            "showbackground": true,
            "ticks": "",
            "zerolinecolor": "white"
           },
           "yaxis": {
            "backgroundcolor": "#E5ECF6",
            "gridcolor": "white",
            "gridwidth": 2,
            "linecolor": "white",
            "showbackground": true,
            "ticks": "",
            "zerolinecolor": "white"
           },
           "zaxis": {
            "backgroundcolor": "#E5ECF6",
            "gridcolor": "white",
            "gridwidth": 2,
            "linecolor": "white",
            "showbackground": true,
            "ticks": "",
            "zerolinecolor": "white"
           }
          },
          "shapedefaults": {
           "line": {
            "color": "#2a3f5f"
           }
          },
          "ternary": {
           "aaxis": {
            "gridcolor": "white",
            "linecolor": "white",
            "ticks": ""
           },
           "baxis": {
            "gridcolor": "white",
            "linecolor": "white",
            "ticks": ""
           },
           "bgcolor": "#E5ECF6",
           "caxis": {
            "gridcolor": "white",
            "linecolor": "white",
            "ticks": ""
           }
          },
          "title": {
           "x": 0.05
          },
          "xaxis": {
           "automargin": true,
           "gridcolor": "white",
           "linecolor": "white",
           "ticks": "",
           "title": {
            "standoff": 15
           },
           "zerolinecolor": "white",
           "zerolinewidth": 2
          },
          "yaxis": {
           "automargin": true,
           "gridcolor": "white",
           "linecolor": "white",
           "ticks": "",
           "title": {
            "standoff": 15
           },
           "zerolinecolor": "white",
           "zerolinewidth": 2
          }
         }
        },
        "title": {
         "text": "Time series of symptoms (percentage)"
        },
        "xaxis": {
         "tickmode": "array",
         "ticktext": [
          "Aug 03 2020",
          "Aug 10 2020",
          "Aug 17 2020",
          "Aug 24 2020",
          "Aug 31 2020",
          "Sep 07 2020",
          "Sep 14 2020",
          "Sep 21 2020",
          "Sep 28 2020",
          "Oct 05 2020",
          "Oct 12 2020",
          "Oct 19 2020",
          "Oct 26 2020",
          "Nov 02 2020",
          "Nov 09 2020"
         ],
         "tickvals": [
          0,
          1,
          2,
          3,
          4,
          5,
          6,
          7,
          8,
          9,
          10,
          11,
          12,
          13,
          14
         ]
        },
        "yaxis": {
         "title": {
          "text": "% symptoms"
         }
        }
       }
      },
      "text/html": [
       "<div>                            <div id=\"dc88b3f8-44a2-47d5-ae92-44ddebb56c12\" class=\"plotly-graph-div\" style=\"height:525px; width:100%;\"></div>            <script type=\"text/javascript\">                require([\"plotly\"], function(Plotly) {                    window.PLOTLYENV=window.PLOTLYENV || {};                                    if (document.getElementById(\"dc88b3f8-44a2-47d5-ae92-44ddebb56c12\")) {                    Plotly.newPlot(                        \"dc88b3f8-44a2-47d5-ae92-44ddebb56c12\",                        [{\"line\": {\"color\": \"rgb(41, 24, 107)\"}, \"mode\": \"markers\", \"name\": \"Sore Throat Scatter\", \"showlegend\": false, \"type\": \"scatter\", \"x\": [0, 1, 2, 3, 4, 5, 6, 7, 8, 9, 10, 11, 12, 13, 14], \"y\": [0.03735325506937033, 0.03402854006586169, 0.02786624203821656, 0.027050610820244327, 0.033814432989690724, 0.04077429983525535, 0.03711426188490409, 0.04147843942505133, 0.0377992440151197, 0.043353783231083846, 0.04323458767013611, 0.04531835205992509, 0.07446808510638298, 0.062246777163904234, 0.06008921542902126]}, {\"line\": {\"width\": 2}, \"marker\": {\"color\": \"rgb(41, 24, 107)\"}, \"mode\": \"lines\", \"name\": \"Sore Throat\", \"showlegend\": true, \"type\": \"scatter\", \"x\": [0, 1, 2, 3, 4, 5, 6, 7, 8, 9, 10, 11, 12, 13, 14], \"y\": [0.0357, 0.033, 0.0319, 0.0319, 0.0339, 0.0367, 0.0386, 0.04, 0.0398, 0.0407, 0.0463, 0.0523, 0.057, 0.0616, 0.0657]}, {\"fillcolor\": \"rgba(41, 24, 107,0.3)\", \"line\": {\"width\": 0}, \"marker\": {\"color\": \"rgb(41, 24, 107)\"}, \"mode\": \"lines\", \"name\": \"Sore Throat Upper Bound\", \"showlegend\": false, \"type\": \"scatter\", \"x\": [0, 1, 2, 3, 4, 5, 6, 7, 8, 9, 10, 11, 12, 13, 14], \"y\": [0.0486, 0.0413, 0.039, 0.0394, 0.0417, 0.0451, 0.0463, 0.0484, 0.0475, 0.0491, 0.0542, 0.0598, 0.064, 0.0699, 0.0787]}, {\"fill\": \"tonexty\", \"fillcolor\": \"rgba(41, 24, 107,0.3)\", \"line\": {\"width\": 0}, \"marker\": {\"color\": \"rgb(41, 24, 107)\"}, \"mode\": \"lines\", \"name\": \"Sore Throat Lower Bound\", \"showlegend\": false, \"type\": \"scatter\", \"x\": [0, 1, 2, 3, 4, 5, 6, 7, 8, 9, 10, 11, 12, 13, 14], \"y\": [0.0227, 0.0247, 0.0248, 0.0244, 0.026, 0.0283, 0.0308, 0.0316, 0.032, 0.0323, 0.0384, 0.0448, 0.0499, 0.0533, 0.0528]}, {\"line\": {\"color\": \"rgb(42, 35, 160)\"}, \"mode\": \"markers\", \"name\": \"Cough Scatter\", \"showlegend\": false, \"type\": \"scatter\", \"x\": [0, 1, 2, 3, 4, 5, 6, 7, 8, 9, 10, 11, 12, 13, 14], \"y\": [0.0288153681963714, 0.019392608854738383, 0.016719745222929936, 0.01832460732984293, 0.023917525773195877, 0.02182866556836903, 0.027522935779816515, 0.029568788501026694, 0.026879462410751787, 0.033128834355828224, 0.0344275420336269, 0.03520599250936329, 0.05087881591119334, 0.04419889502762431, 0.05116767252689583]}, {\"line\": {\"width\": 2}, \"marker\": {\"color\": \"rgb(42, 35, 160)\"}, \"mode\": \"lines\", \"name\": \"Cough\", \"showlegend\": true, \"type\": \"scatter\", \"x\": [0, 1, 2, 3, 4, 5, 6, 7, 8, 9, 10, 11, 12, 13, 14], \"y\": [0.0255, 0.0221, 0.0204, 0.0199, 0.0215, 0.0241, 0.0261, 0.028, 0.0294, 0.0314, 0.0349, 0.0389, 0.0428, 0.0471, 0.0516]}, {\"fillcolor\": \"rgba(42, 35, 160,0.3)\", \"line\": {\"width\": 0}, \"marker\": {\"color\": \"rgb(42, 35, 160)\"}, \"mode\": \"lines\", \"name\": \"Cough Upper Bound\", \"showlegend\": false, \"type\": \"scatter\", \"x\": [0, 1, 2, 3, 4, 5, 6, 7, 8, 9, 10, 11, 12, 13, 14], \"y\": [0.0327, 0.0268, 0.0243, 0.0241, 0.0259, 0.0288, 0.0304, 0.0327, 0.0338, 0.036, 0.0393, 0.0431, 0.0468, 0.0518, 0.0588]}, {\"fill\": \"tonexty\", \"fillcolor\": \"rgba(42, 35, 160,0.3)\", \"line\": {\"width\": 0}, \"marker\": {\"color\": \"rgb(42, 35, 160)\"}, \"mode\": \"lines\", \"name\": \"Cough Lower Bound\", \"showlegend\": false, \"type\": \"scatter\", \"x\": [0, 1, 2, 3, 4, 5, 6, 7, 8, 9, 10, 11, 12, 13, 14], \"y\": [0.0183, 0.0175, 0.0164, 0.0157, 0.0172, 0.0195, 0.0218, 0.0233, 0.0251, 0.0267, 0.0305, 0.0347, 0.0389, 0.0425, 0.0444]}, {\"line\": {\"color\": \"rgb(15, 71, 153)\"}, \"mode\": \"markers\", \"name\": \"Shortness of Breath Scatter\", \"showlegend\": false, \"type\": \"scatter\", \"x\": [0, 1, 2, 3, 4, 5, 6, 7, 8, 9, 10, 11, 12, 13, 14], \"y\": [0.0048025613660619, 0.003658982802780827, 0.002786624203821656, 0.0013089005235602095, 0.002061855670103093, 0.002059308072487644, 0.0050041701417848205, 0.0024640657084188913, 0.004199916001679967, 0.00408997955010225, 0.0040032025620496394, 0.007116104868913857, 0.00786308973172988, 0.0077348066298342545, 0.010758331146680662]}, {\"line\": {\"width\": 2}, \"marker\": {\"color\": \"rgb(15, 71, 153)\"}, \"mode\": \"lines\", \"name\": \"Shortness of Breath\", \"showlegend\": true, \"type\": \"scatter\", \"x\": [0, 1, 2, 3, 4, 5, 6, 7, 8, 9, 10, 11, 12, 13, 14], \"y\": [0.0047, 0.0035, 0.0027, 0.0023, 0.0023, 0.0026, 0.0031, 0.0036, 0.0038, 0.0041, 0.005, 0.006, 0.0073, 0.0088, 0.0104]}, {\"fillcolor\": \"rgba(15, 71, 153,0.3)\", \"line\": {\"width\": 0}, \"marker\": {\"color\": \"rgb(15, 71, 153)\"}, \"mode\": \"lines\", \"name\": \"Shortness of Breath Upper Bound\", \"showlegend\": false, \"type\": \"scatter\", \"x\": [0, 1, 2, 3, 4, 5, 6, 7, 8, 9, 10, 11, 12, 13, 14], \"y\": [0.0066, 0.0047, 0.0037, 0.0034, 0.0034, 0.0038, 0.0042, 0.0048, 0.0049, 0.0053, 0.0061, 0.0071, 0.0083, 0.01, 0.0123]}, {\"fill\": \"tonexty\", \"fillcolor\": \"rgba(15, 71, 153,0.3)\", \"line\": {\"width\": 0}, \"marker\": {\"color\": \"rgb(15, 71, 153)\"}, \"mode\": \"lines\", \"name\": \"Shortness of Breath Lower Bound\", \"showlegend\": false, \"type\": \"scatter\", \"x\": [0, 1, 2, 3, 4, 5, 6, 7, 8, 9, 10, 11, 12, 13, 14], \"y\": [0.0028, 0.0023, 0.0017, 0.0012, 0.0011, 0.0014, 0.002, 0.0024, 0.0027, 0.0029, 0.0038, 0.0049, 0.0062, 0.0075, 0.0086]}, {\"line\": {\"color\": \"rgb(18, 95, 142)\"}, \"mode\": \"markers\", \"name\": \"Fever Scatter\", \"showlegend\": false, \"type\": \"scatter\", \"x\": [0, 1, 2, 3, 4, 5, 6, 7, 8, 9, 10, 11, 12, 13, 14], \"y\": [0.0032017075773745998, 0.0043907793633369925, 0.002786624203821656, 0.0013089005235602095, 0.006185567010309278, 0.0032948929159802307, 0.0012510425354462051, 0.0032854209445585215, 0.00251994960100798, 0.0036809815950920245, 0.0020016012810248197, 0.0052434456928838954, 0.006012950971322849, 0.00847145488029466, 0.008134347940173182]}, {\"line\": {\"width\": 2}, \"marker\": {\"color\": \"rgb(18, 95, 142)\"}, \"mode\": \"lines\", \"name\": \"Fever\", \"showlegend\": true, \"type\": \"scatter\", \"x\": [0, 1, 2, 3, 4, 5, 6, 7, 8, 9, 10, 11, 12, 13, 14], \"y\": [0.0034, 0.0034, 0.0034, 0.0034, 0.0033, 0.0032, 0.0029, 0.0025, 0.0026, 0.0029, 0.0037, 0.0047, 0.0059, 0.0073, 0.0089]}, {\"fillcolor\": \"rgba(18, 95, 142,0.3)\", \"line\": {\"width\": 0}, \"marker\": {\"color\": \"rgb(18, 95, 142)\"}, \"mode\": \"lines\", \"name\": \"Fever Upper Bound\", \"showlegend\": false, \"type\": \"scatter\", \"x\": [0, 1, 2, 3, 4, 5, 6, 7, 8, 9, 10, 11, 12, 13, 14], \"y\": [0.0062, 0.0053, 0.005, 0.005, 0.0051, 0.0051, 0.0046, 0.0044, 0.0043, 0.0047, 0.0054, 0.0064, 0.0075, 0.0091, 0.0118]}, {\"fill\": \"tonexty\", \"fillcolor\": \"rgba(18, 95, 142,0.3)\", \"line\": {\"width\": 0}, \"marker\": {\"color\": \"rgb(18, 95, 142)\"}, \"mode\": \"lines\", \"name\": \"Fever Lower Bound\", \"showlegend\": false, \"type\": \"scatter\", \"x\": [0, 1, 2, 3, 4, 5, 6, 7, 8, 9, 10, 11, 12, 13, 14], \"y\": [0.0005, 0.0016, 0.0019, 0.0017, 0.0016, 0.0014, 0.0012, 0.0007, 0.0008, 0.0011, 0.002, 0.0031, 0.0044, 0.0055, 0.0061]}, {\"line\": {\"color\": \"rgb(38, 116, 137)\"}, \"mode\": \"markers\", \"name\": \"Limb Muscle Pain Scatter\", \"showlegend\": false, \"type\": \"scatter\", \"x\": [0, 1, 2, 3, 4, 5, 6, 7, 8, 9, 10, 11, 12, 13, 14], \"y\": [0.017609391675560297, 0.017197219173069888, 0.009554140127388535, 0.012652705061082025, 0.015257731958762887, 0.019769357495881382, 0.01626355296080067, 0.015605749486652977, 0.014699706005879883, 0.0212678936605317, 0.018414731785428344, 0.023220973782771534, 0.03469010175763182, 0.034990791896869246, 0.03804775649435844]}, {\"line\": {\"width\": 2}, \"marker\": {\"color\": \"rgb(38, 116, 137)\"}, \"mode\": \"lines\", \"name\": \"Limb Muscle Pain\", \"showlegend\": true, \"type\": \"scatter\", \"x\": [0, 1, 2, 3, 4, 5, 6, 7, 8, 9, 10, 11, 12, 13, 14], \"y\": [0.0167, 0.0153, 0.0146, 0.0144, 0.0153, 0.0165, 0.0166, 0.0166, 0.0166, 0.0176, 0.021, 0.0251, 0.0295, 0.0344, 0.0399]}, {\"fillcolor\": \"rgba(38, 116, 137,0.3)\", \"line\": {\"width\": 0}, \"marker\": {\"color\": \"rgb(38, 116, 137)\"}, \"mode\": \"lines\", \"name\": \"Limb Muscle Pain Upper Bound\", \"showlegend\": false, \"type\": \"scatter\", \"x\": [0, 1, 2, 3, 4, 5, 6, 7, 8, 9, 10, 11, 12, 13, 14], \"y\": [0.0227, 0.0191, 0.0179, 0.018, 0.019, 0.0204, 0.0202, 0.0205, 0.0203, 0.0215, 0.0247, 0.0287, 0.0328, 0.0383, 0.046]}, {\"fill\": \"tonexty\", \"fillcolor\": \"rgba(38, 116, 137,0.3)\", \"line\": {\"width\": 0}, \"marker\": {\"color\": \"rgb(38, 116, 137)\"}, \"mode\": \"lines\", \"name\": \"Limb Muscle Pain Lower Bound\", \"showlegend\": false, \"type\": \"scatter\", \"x\": [0, 1, 2, 3, 4, 5, 6, 7, 8, 9, 10, 11, 12, 13, 14], \"y\": [0.0106, 0.0114, 0.0113, 0.0109, 0.0116, 0.0126, 0.013, 0.0127, 0.013, 0.0137, 0.0173, 0.0216, 0.0262, 0.0306, 0.0338]}, {\"line\": {\"color\": \"rgb(53, 136, 136)\"}, \"mode\": \"markers\", \"name\": \"Loss of Taste and Smell Scatter\", \"showlegend\": false, \"type\": \"scatter\", \"x\": [0, 1, 2, 3, 4, 5, 6, 7, 8, 9, 10, 11, 12, 13, 14], \"y\": [0.003735325506937033, 0.004756677643615075, 0.004777070063694267, 0.0017452006980802793, 0.0070103092783505155, 0.0032948929159802307, 0.0037531276063386154, 0.004106776180698152, 0.0029399412011759767, 0.0036809815950920245, 0.004403522818254604, 0.006741573033707865, 0.013876040703052728, 0.013996316758747698, 0.020467069010758333]}, {\"line\": {\"width\": 2}, \"marker\": {\"color\": \"rgb(53, 136, 136)\"}, \"mode\": \"lines\", \"name\": \"Loss of Taste and Smell\", \"showlegend\": true, \"type\": \"scatter\", \"x\": [0, 1, 2, 3, 4, 5, 6, 7, 8, 9, 10, 11, 12, 13, 14], \"y\": [0.004, 0.0042, 0.0043, 0.0043, 0.0043, 0.0042, 0.0038, 0.0035, 0.0032, 0.0035, 0.0052, 0.0078, 0.0111, 0.0153, 0.0204]}, {\"fillcolor\": \"rgba(53, 136, 136,0.3)\", \"line\": {\"width\": 0}, \"marker\": {\"color\": \"rgb(53, 136, 136)\"}, \"mode\": \"lines\", \"name\": \"Loss of Taste and Smell Upper Bound\", \"showlegend\": false, \"type\": \"scatter\", \"x\": [0, 1, 2, 3, 4, 5, 6, 7, 8, 9, 10, 11, 12, 13, 14], \"y\": [0.0071, 0.0062, 0.006, 0.0061, 0.0062, 0.0062, 0.0057, 0.0055, 0.005, 0.0056, 0.0071, 0.0096, 0.0128, 0.0173, 0.0235]}, {\"fill\": \"tonexty\", \"fillcolor\": \"rgba(53, 136, 136,0.3)\", \"line\": {\"width\": 0}, \"marker\": {\"color\": \"rgb(53, 136, 136)\"}, \"mode\": \"lines\", \"name\": \"Loss of Taste and Smell Lower Bound\", \"showlegend\": false, \"type\": \"scatter\", \"x\": [0, 1, 2, 3, 4, 5, 6, 7, 8, 9, 10, 11, 12, 13, 14], \"y\": [0.0009, 0.0022, 0.0026, 0.0025, 0.0024, 0.0022, 0.002, 0.0014, 0.0013, 0.0015, 0.0033, 0.006, 0.0094, 0.0133, 0.0173]}, {\"line\": {\"color\": \"rgb(65, 157, 133)\"}, \"mode\": \"markers\", \"name\": \"FOPH Scatter\", \"showlegend\": false, \"type\": \"scatter\", \"x\": [0, 1, 2, 3, 4, 5, 6, 7, 8, 9, 10, 11, 12, 13, 14], \"y\": [0.0528281750266809, 0.041346505671423346, 0.03662420382165605, 0.03664921465968586, 0.04865979381443299, 0.051482701812191105, 0.05087572977481234, 0.052566735112936344, 0.051658966820663586, 0.05889570552147239, 0.06084867894315452, 0.062172284644194754, 0.09620721554116558, 0.08802946593001841, 0.09131461558646024]}, {\"line\": {\"width\": 2}, \"marker\": {\"color\": \"rgb(65, 157, 133)\"}, \"mode\": \"lines\", \"name\": \"FOPH\", \"showlegend\": true, \"type\": \"scatter\", \"x\": [0, 1, 2, 3, 4, 5, 6, 7, 8, 9, 10, 11, 12, 13, 14], \"y\": [0.0479, 0.0442, 0.0425, 0.0425, 0.0453, 0.0492, 0.0511, 0.0527, 0.0534, 0.0557, 0.0629, 0.0712, 0.079, 0.0875, 0.0964]}, {\"fillcolor\": \"rgba(65, 157, 133,0.3)\", \"line\": {\"width\": 0}, \"marker\": {\"color\": \"rgb(65, 157, 133)\"}, \"mode\": \"lines\", \"name\": \"FOPH Upper Bound\", \"showlegend\": false, \"type\": \"scatter\", \"x\": [0, 1, 2, 3, 4, 5, 6, 7, 8, 9, 10, 11, 12, 13, 14], \"y\": [0.0618, 0.053, 0.0501, 0.0506, 0.0537, 0.0582, 0.0594, 0.0616, 0.0617, 0.0646, 0.0713, 0.0792, 0.0866, 0.0964, 0.1102]}, {\"fill\": \"tonexty\", \"fillcolor\": \"rgba(65, 157, 133,0.3)\", \"line\": {\"width\": 0}, \"marker\": {\"color\": \"rgb(65, 157, 133)\"}, \"mode\": \"lines\", \"name\": \"FOPH Lower Bound\", \"showlegend\": false, \"type\": \"scatter\", \"x\": [0, 1, 2, 3, 4, 5, 6, 7, 8, 9, 10, 11, 12, 13, 14], \"y\": [0.0341, 0.0353, 0.035, 0.0345, 0.0369, 0.0402, 0.0428, 0.0437, 0.0451, 0.0467, 0.0545, 0.0632, 0.0715, 0.0787, 0.0826]}],                        {\"template\": {\"data\": {\"bar\": [{\"error_x\": {\"color\": \"#2a3f5f\"}, \"error_y\": {\"color\": \"#2a3f5f\"}, \"marker\": {\"line\": {\"color\": \"#E5ECF6\", \"width\": 0.5}}, \"type\": \"bar\"}], \"barpolar\": [{\"marker\": {\"line\": {\"color\": \"#E5ECF6\", \"width\": 0.5}}, \"type\": \"barpolar\"}], \"carpet\": [{\"aaxis\": {\"endlinecolor\": \"#2a3f5f\", \"gridcolor\": \"white\", \"linecolor\": \"white\", \"minorgridcolor\": \"white\", \"startlinecolor\": \"#2a3f5f\"}, \"baxis\": {\"endlinecolor\": \"#2a3f5f\", \"gridcolor\": \"white\", \"linecolor\": \"white\", \"minorgridcolor\": \"white\", \"startlinecolor\": \"#2a3f5f\"}, \"type\": \"carpet\"}], \"choropleth\": [{\"colorbar\": {\"outlinewidth\": 0, \"ticks\": \"\"}, \"type\": \"choropleth\"}], \"contour\": [{\"colorbar\": {\"outlinewidth\": 0, \"ticks\": \"\"}, \"colorscale\": [[0.0, \"#0d0887\"], [0.1111111111111111, \"#46039f\"], [0.2222222222222222, \"#7201a8\"], [0.3333333333333333, \"#9c179e\"], [0.4444444444444444, \"#bd3786\"], [0.5555555555555556, \"#d8576b\"], [0.6666666666666666, \"#ed7953\"], [0.7777777777777778, \"#fb9f3a\"], [0.8888888888888888, \"#fdca26\"], [1.0, \"#f0f921\"]], \"type\": \"contour\"}], \"contourcarpet\": [{\"colorbar\": {\"outlinewidth\": 0, \"ticks\": \"\"}, \"type\": \"contourcarpet\"}], \"heatmap\": [{\"colorbar\": {\"outlinewidth\": 0, \"ticks\": \"\"}, \"colorscale\": [[0.0, \"#0d0887\"], [0.1111111111111111, \"#46039f\"], [0.2222222222222222, \"#7201a8\"], [0.3333333333333333, \"#9c179e\"], [0.4444444444444444, \"#bd3786\"], [0.5555555555555556, \"#d8576b\"], [0.6666666666666666, \"#ed7953\"], [0.7777777777777778, \"#fb9f3a\"], [0.8888888888888888, \"#fdca26\"], [1.0, \"#f0f921\"]], \"type\": \"heatmap\"}], \"heatmapgl\": [{\"colorbar\": {\"outlinewidth\": 0, \"ticks\": \"\"}, \"colorscale\": [[0.0, \"#0d0887\"], [0.1111111111111111, \"#46039f\"], [0.2222222222222222, \"#7201a8\"], [0.3333333333333333, \"#9c179e\"], [0.4444444444444444, \"#bd3786\"], [0.5555555555555556, \"#d8576b\"], [0.6666666666666666, \"#ed7953\"], [0.7777777777777778, \"#fb9f3a\"], [0.8888888888888888, \"#fdca26\"], [1.0, \"#f0f921\"]], \"type\": \"heatmapgl\"}], \"histogram\": [{\"marker\": {\"colorbar\": {\"outlinewidth\": 0, \"ticks\": \"\"}}, \"type\": \"histogram\"}], \"histogram2d\": [{\"colorbar\": {\"outlinewidth\": 0, \"ticks\": \"\"}, \"colorscale\": [[0.0, \"#0d0887\"], [0.1111111111111111, \"#46039f\"], [0.2222222222222222, \"#7201a8\"], [0.3333333333333333, \"#9c179e\"], [0.4444444444444444, \"#bd3786\"], [0.5555555555555556, \"#d8576b\"], [0.6666666666666666, \"#ed7953\"], [0.7777777777777778, \"#fb9f3a\"], [0.8888888888888888, \"#fdca26\"], [1.0, \"#f0f921\"]], \"type\": \"histogram2d\"}], \"histogram2dcontour\": [{\"colorbar\": {\"outlinewidth\": 0, \"ticks\": \"\"}, \"colorscale\": [[0.0, \"#0d0887\"], [0.1111111111111111, \"#46039f\"], [0.2222222222222222, \"#7201a8\"], [0.3333333333333333, \"#9c179e\"], [0.4444444444444444, \"#bd3786\"], [0.5555555555555556, \"#d8576b\"], [0.6666666666666666, \"#ed7953\"], [0.7777777777777778, \"#fb9f3a\"], [0.8888888888888888, \"#fdca26\"], [1.0, \"#f0f921\"]], \"type\": \"histogram2dcontour\"}], \"mesh3d\": [{\"colorbar\": {\"outlinewidth\": 0, \"ticks\": \"\"}, \"type\": \"mesh3d\"}], \"parcoords\": [{\"line\": {\"colorbar\": {\"outlinewidth\": 0, \"ticks\": \"\"}}, \"type\": \"parcoords\"}], \"pie\": [{\"automargin\": true, \"type\": \"pie\"}], \"scatter\": [{\"marker\": {\"colorbar\": {\"outlinewidth\": 0, \"ticks\": \"\"}}, \"type\": \"scatter\"}], \"scatter3d\": [{\"line\": {\"colorbar\": {\"outlinewidth\": 0, \"ticks\": \"\"}}, \"marker\": {\"colorbar\": {\"outlinewidth\": 0, \"ticks\": \"\"}}, \"type\": \"scatter3d\"}], \"scattercarpet\": [{\"marker\": {\"colorbar\": {\"outlinewidth\": 0, \"ticks\": \"\"}}, \"type\": \"scattercarpet\"}], \"scattergeo\": [{\"marker\": {\"colorbar\": {\"outlinewidth\": 0, \"ticks\": \"\"}}, \"type\": \"scattergeo\"}], \"scattergl\": [{\"marker\": {\"colorbar\": {\"outlinewidth\": 0, \"ticks\": \"\"}}, \"type\": \"scattergl\"}], \"scattermapbox\": [{\"marker\": {\"colorbar\": {\"outlinewidth\": 0, \"ticks\": \"\"}}, \"type\": \"scattermapbox\"}], \"scatterpolar\": [{\"marker\": {\"colorbar\": {\"outlinewidth\": 0, \"ticks\": \"\"}}, \"type\": \"scatterpolar\"}], \"scatterpolargl\": [{\"marker\": {\"colorbar\": {\"outlinewidth\": 0, \"ticks\": \"\"}}, \"type\": \"scatterpolargl\"}], \"scatterternary\": [{\"marker\": {\"colorbar\": {\"outlinewidth\": 0, \"ticks\": \"\"}}, \"type\": \"scatterternary\"}], \"surface\": [{\"colorbar\": {\"outlinewidth\": 0, \"ticks\": \"\"}, \"colorscale\": [[0.0, \"#0d0887\"], [0.1111111111111111, \"#46039f\"], [0.2222222222222222, \"#7201a8\"], [0.3333333333333333, \"#9c179e\"], [0.4444444444444444, \"#bd3786\"], [0.5555555555555556, \"#d8576b\"], [0.6666666666666666, \"#ed7953\"], [0.7777777777777778, \"#fb9f3a\"], [0.8888888888888888, \"#fdca26\"], [1.0, \"#f0f921\"]], \"type\": \"surface\"}], \"table\": [{\"cells\": {\"fill\": {\"color\": \"#EBF0F8\"}, \"line\": {\"color\": \"white\"}}, \"header\": {\"fill\": {\"color\": \"#C8D4E3\"}, \"line\": {\"color\": \"white\"}}, \"type\": \"table\"}]}, \"layout\": {\"annotationdefaults\": {\"arrowcolor\": \"#2a3f5f\", \"arrowhead\": 0, \"arrowwidth\": 1}, \"autotypenumbers\": \"strict\", \"coloraxis\": {\"colorbar\": {\"outlinewidth\": 0, \"ticks\": \"\"}}, \"colorscale\": {\"diverging\": [[0, \"#8e0152\"], [0.1, \"#c51b7d\"], [0.2, \"#de77ae\"], [0.3, \"#f1b6da\"], [0.4, \"#fde0ef\"], [0.5, \"#f7f7f7\"], [0.6, \"#e6f5d0\"], [0.7, \"#b8e186\"], [0.8, \"#7fbc41\"], [0.9, \"#4d9221\"], [1, \"#276419\"]], \"sequential\": [[0.0, \"#0d0887\"], [0.1111111111111111, \"#46039f\"], [0.2222222222222222, \"#7201a8\"], [0.3333333333333333, \"#9c179e\"], [0.4444444444444444, \"#bd3786\"], [0.5555555555555556, \"#d8576b\"], [0.6666666666666666, \"#ed7953\"], [0.7777777777777778, \"#fb9f3a\"], [0.8888888888888888, \"#fdca26\"], [1.0, \"#f0f921\"]], \"sequentialminus\": [[0.0, \"#0d0887\"], [0.1111111111111111, \"#46039f\"], [0.2222222222222222, \"#7201a8\"], [0.3333333333333333, \"#9c179e\"], [0.4444444444444444, \"#bd3786\"], [0.5555555555555556, \"#d8576b\"], [0.6666666666666666, \"#ed7953\"], [0.7777777777777778, \"#fb9f3a\"], [0.8888888888888888, \"#fdca26\"], [1.0, \"#f0f921\"]]}, \"colorway\": [\"#636efa\", \"#EF553B\", \"#00cc96\", \"#ab63fa\", \"#FFA15A\", \"#19d3f3\", \"#FF6692\", \"#B6E880\", \"#FF97FF\", \"#FECB52\"], \"font\": {\"color\": \"#2a3f5f\"}, \"geo\": {\"bgcolor\": \"white\", \"lakecolor\": \"white\", \"landcolor\": \"#E5ECF6\", \"showlakes\": true, \"showland\": true, \"subunitcolor\": \"white\"}, \"hoverlabel\": {\"align\": \"left\"}, \"hovermode\": \"closest\", \"mapbox\": {\"style\": \"light\"}, \"paper_bgcolor\": \"white\", \"plot_bgcolor\": \"#E5ECF6\", \"polar\": {\"angularaxis\": {\"gridcolor\": \"white\", \"linecolor\": \"white\", \"ticks\": \"\"}, \"bgcolor\": \"#E5ECF6\", \"radialaxis\": {\"gridcolor\": \"white\", \"linecolor\": \"white\", \"ticks\": \"\"}}, \"scene\": {\"xaxis\": {\"backgroundcolor\": \"#E5ECF6\", \"gridcolor\": \"white\", \"gridwidth\": 2, \"linecolor\": \"white\", \"showbackground\": true, \"ticks\": \"\", \"zerolinecolor\": \"white\"}, \"yaxis\": {\"backgroundcolor\": \"#E5ECF6\", \"gridcolor\": \"white\", \"gridwidth\": 2, \"linecolor\": \"white\", \"showbackground\": true, \"ticks\": \"\", \"zerolinecolor\": \"white\"}, \"zaxis\": {\"backgroundcolor\": \"#E5ECF6\", \"gridcolor\": \"white\", \"gridwidth\": 2, \"linecolor\": \"white\", \"showbackground\": true, \"ticks\": \"\", \"zerolinecolor\": \"white\"}}, \"shapedefaults\": {\"line\": {\"color\": \"#2a3f5f\"}}, \"ternary\": {\"aaxis\": {\"gridcolor\": \"white\", \"linecolor\": \"white\", \"ticks\": \"\"}, \"baxis\": {\"gridcolor\": \"white\", \"linecolor\": \"white\", \"ticks\": \"\"}, \"bgcolor\": \"#E5ECF6\", \"caxis\": {\"gridcolor\": \"white\", \"linecolor\": \"white\", \"ticks\": \"\"}}, \"title\": {\"x\": 0.05}, \"xaxis\": {\"automargin\": true, \"gridcolor\": \"white\", \"linecolor\": \"white\", \"ticks\": \"\", \"title\": {\"standoff\": 15}, \"zerolinecolor\": \"white\", \"zerolinewidth\": 2}, \"yaxis\": {\"automargin\": true, \"gridcolor\": \"white\", \"linecolor\": \"white\", \"ticks\": \"\", \"title\": {\"standoff\": 15}, \"zerolinecolor\": \"white\", \"zerolinewidth\": 2}}}, \"title\": {\"text\": \"Time series of symptoms (percentage)\"}, \"xaxis\": {\"tickmode\": \"array\", \"ticktext\": [\"Aug 03 2020\", \"Aug 10 2020\", \"Aug 17 2020\", \"Aug 24 2020\", \"Aug 31 2020\", \"Sep 07 2020\", \"Sep 14 2020\", \"Sep 21 2020\", \"Sep 28 2020\", \"Oct 05 2020\", \"Oct 12 2020\", \"Oct 19 2020\", \"Oct 26 2020\", \"Nov 02 2020\", \"Nov 09 2020\"], \"tickvals\": [0, 1, 2, 3, 4, 5, 6, 7, 8, 9, 10, 11, 12, 13, 14]}, \"yaxis\": {\"title\": {\"text\": \"% symptoms\"}}},                        {\"responsive\": true}                    ).then(function(){\n",
       "                            \n",
       "var gd = document.getElementById('dc88b3f8-44a2-47d5-ae92-44ddebb56c12');\n",
       "var x = new MutationObserver(function (mutations, observer) {{\n",
       "        var display = window.getComputedStyle(gd).display;\n",
       "        if (!display || display === 'none') {{\n",
       "            console.log([gd, 'removed!']);\n",
       "            Plotly.purge(gd);\n",
       "            observer.disconnect();\n",
       "        }}\n",
       "}});\n",
       "\n",
       "// Listen for the removal of the full notebook cells\n",
       "var notebookContainer = gd.closest('#notebook-container');\n",
       "if (notebookContainer) {{\n",
       "    x.observe(notebookContainer, {childList: true});\n",
       "}}\n",
       "\n",
       "// Listen for the clearing of the current output cell\n",
       "var outputEl = gd.closest('.output');\n",
       "if (outputEl) {{\n",
       "    x.observe(outputEl, {childList: true});\n",
       "}}\n",
       "\n",
       "                        })                };                });            </script>        </div>"
      ]
     },
     "metadata": {},
     "output_type": "display_data"
    }
   ],
   "source": [
    "model.plot_data()"
   ]
  },
  {
   "cell_type": "code",
   "execution_count": 105,
   "metadata": {},
   "outputs": [],
   "source": [
    "model.save_data()"
   ]
  },
  {
   "cell_type": "code",
   "execution_count": null,
   "metadata": {},
   "outputs": [],
   "source": [
    "data_file2 = 'data/time_series_symptoms_positive_04_01_copy_1_filter_2.csv'"
   ]
  },
  {
   "cell_type": "code",
   "execution_count": 19,
   "metadata": {},
   "outputs": [],
   "source": [
    "df2 = pd.read_csv(data_file2)"
   ]
  },
  {
   "cell_type": "code",
   "execution_count": 106,
   "metadata": {},
   "outputs": [
    {
     "data": {
      "text/html": [
       "<div>\n",
       "<style scoped>\n",
       "    .dataframe tbody tr th:only-of-type {\n",
       "        vertical-align: middle;\n",
       "    }\n",
       "\n",
       "    .dataframe tbody tr th {\n",
       "        vertical-align: top;\n",
       "    }\n",
       "\n",
       "    .dataframe thead th {\n",
       "        text-align: right;\n",
       "    }\n",
       "</style>\n",
       "<table border=\"1\" class=\"dataframe\">\n",
       "  <thead>\n",
       "    <tr style=\"text-align: right;\">\n",
       "      <th></th>\n",
       "      <th>date</th>\n",
       "      <th>sore_throat</th>\n",
       "      <th>cough</th>\n",
       "      <th>shortness_breath</th>\n",
       "      <th>fever</th>\n",
       "      <th>limb_muscle_pain</th>\n",
       "      <th>loss_of_taste_smell</th>\n",
       "      <th>foph</th>\n",
       "    </tr>\n",
       "  </thead>\n",
       "  <tbody>\n",
       "    <tr>\n",
       "      <th>0</th>\n",
       "      <td>2020-08-03</td>\n",
       "      <td>0.037353</td>\n",
       "      <td>0.028815</td>\n",
       "      <td>0.004803</td>\n",
       "      <td>0.003202</td>\n",
       "      <td>0.017609</td>\n",
       "      <td>0.003735</td>\n",
       "      <td>0.052828</td>\n",
       "    </tr>\n",
       "    <tr>\n",
       "      <th>1</th>\n",
       "      <td>2020-08-10</td>\n",
       "      <td>0.034029</td>\n",
       "      <td>0.019393</td>\n",
       "      <td>0.003659</td>\n",
       "      <td>0.004391</td>\n",
       "      <td>0.017197</td>\n",
       "      <td>0.004757</td>\n",
       "      <td>0.041347</td>\n",
       "    </tr>\n",
       "    <tr>\n",
       "      <th>2</th>\n",
       "      <td>2020-08-17</td>\n",
       "      <td>0.027866</td>\n",
       "      <td>0.016720</td>\n",
       "      <td>0.002787</td>\n",
       "      <td>0.002787</td>\n",
       "      <td>0.009554</td>\n",
       "      <td>0.004777</td>\n",
       "      <td>0.036624</td>\n",
       "    </tr>\n",
       "    <tr>\n",
       "      <th>3</th>\n",
       "      <td>2020-08-24</td>\n",
       "      <td>0.027051</td>\n",
       "      <td>0.018325</td>\n",
       "      <td>0.001309</td>\n",
       "      <td>0.001309</td>\n",
       "      <td>0.012653</td>\n",
       "      <td>0.001745</td>\n",
       "      <td>0.036649</td>\n",
       "    </tr>\n",
       "    <tr>\n",
       "      <th>4</th>\n",
       "      <td>2020-08-31</td>\n",
       "      <td>0.033814</td>\n",
       "      <td>0.023918</td>\n",
       "      <td>0.002062</td>\n",
       "      <td>0.006186</td>\n",
       "      <td>0.015258</td>\n",
       "      <td>0.007010</td>\n",
       "      <td>0.048660</td>\n",
       "    </tr>\n",
       "    <tr>\n",
       "      <th>5</th>\n",
       "      <td>2020-09-07</td>\n",
       "      <td>0.040774</td>\n",
       "      <td>0.021829</td>\n",
       "      <td>0.002059</td>\n",
       "      <td>0.003295</td>\n",
       "      <td>0.019769</td>\n",
       "      <td>0.003295</td>\n",
       "      <td>0.051483</td>\n",
       "    </tr>\n",
       "    <tr>\n",
       "      <th>6</th>\n",
       "      <td>2020-09-14</td>\n",
       "      <td>0.037114</td>\n",
       "      <td>0.027523</td>\n",
       "      <td>0.005004</td>\n",
       "      <td>0.001251</td>\n",
       "      <td>0.016264</td>\n",
       "      <td>0.003753</td>\n",
       "      <td>0.050876</td>\n",
       "    </tr>\n",
       "    <tr>\n",
       "      <th>7</th>\n",
       "      <td>2020-09-21</td>\n",
       "      <td>0.041478</td>\n",
       "      <td>0.029569</td>\n",
       "      <td>0.002464</td>\n",
       "      <td>0.003285</td>\n",
       "      <td>0.015606</td>\n",
       "      <td>0.004107</td>\n",
       "      <td>0.052567</td>\n",
       "    </tr>\n",
       "    <tr>\n",
       "      <th>8</th>\n",
       "      <td>2020-09-28</td>\n",
       "      <td>0.037799</td>\n",
       "      <td>0.026879</td>\n",
       "      <td>0.004200</td>\n",
       "      <td>0.002520</td>\n",
       "      <td>0.014700</td>\n",
       "      <td>0.002940</td>\n",
       "      <td>0.051659</td>\n",
       "    </tr>\n",
       "    <tr>\n",
       "      <th>9</th>\n",
       "      <td>2020-10-05</td>\n",
       "      <td>0.043354</td>\n",
       "      <td>0.033129</td>\n",
       "      <td>0.004090</td>\n",
       "      <td>0.003681</td>\n",
       "      <td>0.021268</td>\n",
       "      <td>0.003681</td>\n",
       "      <td>0.058896</td>\n",
       "    </tr>\n",
       "    <tr>\n",
       "      <th>10</th>\n",
       "      <td>2020-10-12</td>\n",
       "      <td>0.043235</td>\n",
       "      <td>0.034428</td>\n",
       "      <td>0.004003</td>\n",
       "      <td>0.002002</td>\n",
       "      <td>0.018415</td>\n",
       "      <td>0.004404</td>\n",
       "      <td>0.060849</td>\n",
       "    </tr>\n",
       "    <tr>\n",
       "      <th>11</th>\n",
       "      <td>2020-10-19</td>\n",
       "      <td>0.045318</td>\n",
       "      <td>0.035206</td>\n",
       "      <td>0.007116</td>\n",
       "      <td>0.005243</td>\n",
       "      <td>0.023221</td>\n",
       "      <td>0.006742</td>\n",
       "      <td>0.062172</td>\n",
       "    </tr>\n",
       "    <tr>\n",
       "      <th>12</th>\n",
       "      <td>2020-10-26</td>\n",
       "      <td>0.074468</td>\n",
       "      <td>0.050879</td>\n",
       "      <td>0.007863</td>\n",
       "      <td>0.006013</td>\n",
       "      <td>0.034690</td>\n",
       "      <td>0.013876</td>\n",
       "      <td>0.096207</td>\n",
       "    </tr>\n",
       "    <tr>\n",
       "      <th>13</th>\n",
       "      <td>2020-11-02</td>\n",
       "      <td>0.062247</td>\n",
       "      <td>0.044199</td>\n",
       "      <td>0.007735</td>\n",
       "      <td>0.008471</td>\n",
       "      <td>0.034991</td>\n",
       "      <td>0.013996</td>\n",
       "      <td>0.088029</td>\n",
       "    </tr>\n",
       "    <tr>\n",
       "      <th>14</th>\n",
       "      <td>2020-11-09</td>\n",
       "      <td>0.060089</td>\n",
       "      <td>0.051168</td>\n",
       "      <td>0.010758</td>\n",
       "      <td>0.008134</td>\n",
       "      <td>0.038048</td>\n",
       "      <td>0.020467</td>\n",
       "      <td>0.091315</td>\n",
       "    </tr>\n",
       "  </tbody>\n",
       "</table>\n",
       "</div>"
      ],
      "text/plain": [
       "         date  sore_throat     cough  shortness_breath     fever  \\\n",
       "0  2020-08-03     0.037353  0.028815          0.004803  0.003202   \n",
       "1  2020-08-10     0.034029  0.019393          0.003659  0.004391   \n",
       "2  2020-08-17     0.027866  0.016720          0.002787  0.002787   \n",
       "3  2020-08-24     0.027051  0.018325          0.001309  0.001309   \n",
       "4  2020-08-31     0.033814  0.023918          0.002062  0.006186   \n",
       "5  2020-09-07     0.040774  0.021829          0.002059  0.003295   \n",
       "6  2020-09-14     0.037114  0.027523          0.005004  0.001251   \n",
       "7  2020-09-21     0.041478  0.029569          0.002464  0.003285   \n",
       "8  2020-09-28     0.037799  0.026879          0.004200  0.002520   \n",
       "9  2020-10-05     0.043354  0.033129          0.004090  0.003681   \n",
       "10 2020-10-12     0.043235  0.034428          0.004003  0.002002   \n",
       "11 2020-10-19     0.045318  0.035206          0.007116  0.005243   \n",
       "12 2020-10-26     0.074468  0.050879          0.007863  0.006013   \n",
       "13 2020-11-02     0.062247  0.044199          0.007735  0.008471   \n",
       "14 2020-11-09     0.060089  0.051168          0.010758  0.008134   \n",
       "\n",
       "    limb_muscle_pain  loss_of_taste_smell      foph  \n",
       "0           0.017609             0.003735  0.052828  \n",
       "1           0.017197             0.004757  0.041347  \n",
       "2           0.009554             0.004777  0.036624  \n",
       "3           0.012653             0.001745  0.036649  \n",
       "4           0.015258             0.007010  0.048660  \n",
       "5           0.019769             0.003295  0.051483  \n",
       "6           0.016264             0.003753  0.050876  \n",
       "7           0.015606             0.004107  0.052567  \n",
       "8           0.014700             0.002940  0.051659  \n",
       "9           0.021268             0.003681  0.058896  \n",
       "10          0.018415             0.004404  0.060849  \n",
       "11          0.023221             0.006742  0.062172  \n",
       "12          0.034690             0.013876  0.096207  \n",
       "13          0.034991             0.013996  0.088029  \n",
       "14          0.038048             0.020467  0.091315  "
      ]
     },
     "execution_count": 106,
     "metadata": {},
     "output_type": "execute_result"
    }
   ],
   "source": [
    "model.data"
   ]
  },
  {
   "cell_type": "code",
   "execution_count": 398,
   "metadata": {},
   "outputs": [
    {
     "data": {
      "text/plain": [
       "0.06247077461463549"
      ]
     },
     "execution_count": 398,
     "metadata": {},
     "output_type": "execute_result"
    }
   ],
   "source": [
    "day_one_df2 = df2[df2['date_week'] == '2020-10-19']\n",
    "day_one_df2['Sore throat'].mean()"
   ]
  },
  {
   "cell_type": "code",
   "execution_count": 55,
   "metadata": {},
   "outputs": [
    {
     "data": {
      "text/plain": [
       "0.0037825351977642586"
      ]
     },
     "execution_count": 55,
     "metadata": {},
     "output_type": "execute_result"
    }
   ],
   "source": [
    "day_one_df2['Fever'].mean()"
   ]
  },
  {
   "cell_type": "code",
   "execution_count": 20,
   "metadata": {},
   "outputs": [
    {
     "data": {
      "text/html": [
       "<div>\n",
       "<style scoped>\n",
       "    .dataframe tbody tr th:only-of-type {\n",
       "        vertical-align: middle;\n",
       "    }\n",
       "\n",
       "    .dataframe tbody tr th {\n",
       "        vertical-align: top;\n",
       "    }\n",
       "\n",
       "    .dataframe thead th {\n",
       "        text-align: right;\n",
       "    }\n",
       "</style>\n",
       "<table border=\"1\" class=\"dataframe\">\n",
       "  <thead>\n",
       "    <tr style=\"text-align: right;\">\n",
       "      <th></th>\n",
       "      <th>date_week</th>\n",
       "      <th>institution</th>\n",
       "      <th>userId_unq</th>\n",
       "      <th>Fever</th>\n",
       "      <th>Sore throat</th>\n",
       "      <th>Cough</th>\n",
       "      <th>Shortness of breath</th>\n",
       "      <th>Runny nose</th>\n",
       "      <th>Limb muscle pain</th>\n",
       "      <th>Loss of taste</th>\n",
       "      <th>Positive results</th>\n",
       "      <th>FOPH</th>\n",
       "      <th>Frequency of positives</th>\n",
       "      <th>tested_sars_cov_2_n_true</th>\n",
       "    </tr>\n",
       "  </thead>\n",
       "  <tbody>\n",
       "    <tr>\n",
       "      <th>0</th>\n",
       "      <td>2020-08-03</td>\n",
       "      <td>Blutspende SRK Ostschweiz</td>\n",
       "      <td>22</td>\n",
       "      <td>NaN</td>\n",
       "      <td>NaN</td>\n",
       "      <td>NaN</td>\n",
       "      <td>NaN</td>\n",
       "      <td>NaN</td>\n",
       "      <td>NaN</td>\n",
       "      <td>NaN</td>\n",
       "      <td>0.000000</td>\n",
       "      <td>NaN</td>\n",
       "      <td>0</td>\n",
       "      <td>0</td>\n",
       "    </tr>\n",
       "    <tr>\n",
       "      <th>1</th>\n",
       "      <td>2020-08-03</td>\n",
       "      <td>Clienia Littenheid AG</td>\n",
       "      <td>129</td>\n",
       "      <td>0.006329</td>\n",
       "      <td>0.050633</td>\n",
       "      <td>0.012658</td>\n",
       "      <td>0.000000</td>\n",
       "      <td>0.031646</td>\n",
       "      <td>0.031646</td>\n",
       "      <td>0.000000</td>\n",
       "      <td>0.000000</td>\n",
       "      <td>0.050633</td>\n",
       "      <td>0</td>\n",
       "      <td>4</td>\n",
       "    </tr>\n",
       "    <tr>\n",
       "      <th>2</th>\n",
       "      <td>2020-08-03</td>\n",
       "      <td>Geriatrische Klinik St. Gallen</td>\n",
       "      <td>77</td>\n",
       "      <td>0.000000</td>\n",
       "      <td>0.022222</td>\n",
       "      <td>0.011111</td>\n",
       "      <td>0.000000</td>\n",
       "      <td>0.000000</td>\n",
       "      <td>0.000000</td>\n",
       "      <td>0.000000</td>\n",
       "      <td>0.000000</td>\n",
       "      <td>0.022222</td>\n",
       "      <td>0</td>\n",
       "      <td>2</td>\n",
       "    </tr>\n",
       "    <tr>\n",
       "      <th>3</th>\n",
       "      <td>2020-08-03</td>\n",
       "      <td>Hirslanden Zürich</td>\n",
       "      <td>243</td>\n",
       "      <td>0.006969</td>\n",
       "      <td>0.048780</td>\n",
       "      <td>0.052265</td>\n",
       "      <td>0.010453</td>\n",
       "      <td>0.045296</td>\n",
       "      <td>0.034843</td>\n",
       "      <td>0.003484</td>\n",
       "      <td>0.000000</td>\n",
       "      <td>0.069686</td>\n",
       "      <td>0</td>\n",
       "      <td>9</td>\n",
       "    </tr>\n",
       "    <tr>\n",
       "      <th>4</th>\n",
       "      <td>2020-08-03</td>\n",
       "      <td>Kantonsspital Baden</td>\n",
       "      <td>671</td>\n",
       "      <td>0.002751</td>\n",
       "      <td>0.044017</td>\n",
       "      <td>0.022008</td>\n",
       "      <td>0.004127</td>\n",
       "      <td>0.035763</td>\n",
       "      <td>0.019257</td>\n",
       "      <td>0.000000</td>\n",
       "      <td>0.001376</td>\n",
       "      <td>0.052270</td>\n",
       "      <td>1</td>\n",
       "      <td>28</td>\n",
       "    </tr>\n",
       "  </tbody>\n",
       "</table>\n",
       "</div>"
      ],
      "text/plain": [
       "    date_week                     institution  userId_unq     Fever  \\\n",
       "0  2020-08-03       Blutspende SRK Ostschweiz          22       NaN   \n",
       "1  2020-08-03           Clienia Littenheid AG         129  0.006329   \n",
       "2  2020-08-03  Geriatrische Klinik St. Gallen          77  0.000000   \n",
       "3  2020-08-03               Hirslanden Zürich         243  0.006969   \n",
       "4  2020-08-03             Kantonsspital Baden         671  0.002751   \n",
       "\n",
       "   Sore throat     Cough  Shortness of breath  Runny nose  Limb muscle pain  \\\n",
       "0          NaN       NaN                  NaN         NaN               NaN   \n",
       "1     0.050633  0.012658             0.000000    0.031646          0.031646   \n",
       "2     0.022222  0.011111             0.000000    0.000000          0.000000   \n",
       "3     0.048780  0.052265             0.010453    0.045296          0.034843   \n",
       "4     0.044017  0.022008             0.004127    0.035763          0.019257   \n",
       "\n",
       "   Loss of taste  Positive results      FOPH  Frequency of positives  \\\n",
       "0            NaN          0.000000       NaN                       0   \n",
       "1       0.000000          0.000000  0.050633                       0   \n",
       "2       0.000000          0.000000  0.022222                       0   \n",
       "3       0.003484          0.000000  0.069686                       0   \n",
       "4       0.000000          0.001376  0.052270                       1   \n",
       "\n",
       "   tested_sars_cov_2_n_true  \n",
       "0                         0  \n",
       "1                         4  \n",
       "2                         2  \n",
       "3                         9  \n",
       "4                        28  "
      ]
     },
     "execution_count": 20,
     "metadata": {},
     "output_type": "execute_result"
    }
   ],
   "source": [
    "df2.head()"
   ]
  },
  {
   "cell_type": "code",
   "execution_count": 371,
   "metadata": {},
   "outputs": [
    {
     "data": {
      "text/plain": [
       "array(['2020-08-03', '2020-08-10', '2020-08-17', '2020-08-24',\n",
       "       '2020-08-31', '2020-09-07', '2020-09-14', '2020-09-21',\n",
       "       '2020-09-28', '2020-10-05', '2020-10-12', '2020-10-19',\n",
       "       '2020-10-26', '2020-11-02', '2020-11-09', '2020-11-16',\n",
       "       '2020-11-23', '2020-11-30', '2020-12-07', '2020-12-14',\n",
       "       '2020-12-21', '2020-12-28', '2021-01-04'], dtype=object)"
      ]
     },
     "execution_count": 371,
     "metadata": {},
     "output_type": "execute_result"
    }
   ],
   "source": [
    "df2['date_week'].unique()"
   ]
  },
  {
   "cell_type": "code",
   "execution_count": 262,
   "metadata": {},
   "outputs": [],
   "source": [
    "zero, one = df1['2'].value_counts()"
   ]
  },
  {
   "cell_type": "code",
   "execution_count": 263,
   "metadata": {},
   "outputs": [
    {
     "data": {
      "text/plain": [
       "37068"
      ]
     },
     "execution_count": 263,
     "metadata": {},
     "output_type": "execute_result"
    }
   ],
   "source": [
    "zero"
   ]
  },
  {
   "cell_type": "code",
   "execution_count": 64,
   "metadata": {},
   "outputs": [],
   "source": [
    "def turn_to_str(val):\n",
    "    return str(val)"
   ]
  },
  {
   "cell_type": "code",
   "execution_count": 65,
   "metadata": {},
   "outputs": [],
   "source": [
    "model.data['sore_throat'] = model.data['sore_throat'].apply(turn_to_str)"
   ]
  },
  {
   "cell_type": "code",
   "execution_count": 69,
   "metadata": {},
   "outputs": [
    {
     "data": {
      "text/plain": [
       "'0.03991130820399113'"
      ]
     },
     "execution_count": 69,
     "metadata": {},
     "output_type": "execute_result"
    }
   ],
   "source": [
    "model.data['sore_throat'][1]"
   ]
  },
  {
   "cell_type": "code",
   "execution_count": 71,
   "metadata": {},
   "outputs": [
    {
     "name": "stderr",
     "output_type": "stream",
     "text": [
      "/home/denis/anaconda3/lib/python3.8/site-packages/IPython/core/interactiveshell.py:3146: DtypeWarning:\n",
      "\n",
      "Columns (36) have mixed types.Specify dtype option on import or set low_memory=False.\n",
      "\n"
     ]
    }
   ],
   "source": [
    "df1 = pd.read_csv(data_file, sep = ';')"
   ]
  },
  {
   "cell_type": "code",
   "execution_count": 72,
   "metadata": {},
   "outputs": [
    {
     "data": {
      "text/html": [
       "<div>\n",
       "<style scoped>\n",
       "    .dataframe tbody tr th:only-of-type {\n",
       "        vertical-align: middle;\n",
       "    }\n",
       "\n",
       "    .dataframe tbody tr th {\n",
       "        vertical-align: top;\n",
       "    }\n",
       "\n",
       "    .dataframe thead th {\n",
       "        text-align: right;\n",
       "    }\n",
       "</style>\n",
       "<table border=\"1\" class=\"dataframe\">\n",
       "  <thead>\n",
       "    <tr style=\"text-align: right;\">\n",
       "      <th></th>\n",
       "      <th>surveyId</th>\n",
       "      <th>userId</th>\n",
       "      <th>cId</th>\n",
       "      <th>oNo</th>\n",
       "      <th>plz</th>\n",
       "      <th>dropout</th>\n",
       "      <th>weeklySms</th>\n",
       "      <th>weeklyEmail</th>\n",
       "      <th>dateOfBirth</th>\n",
       "      <th>gender</th>\n",
       "      <th>...</th>\n",
       "      <th>30</th>\n",
       "      <th>31</th>\n",
       "      <th>32</th>\n",
       "      <th>33</th>\n",
       "      <th>34</th>\n",
       "      <th>35</th>\n",
       "      <th>36</th>\n",
       "      <th>37</th>\n",
       "      <th>38</th>\n",
       "      <th>39</th>\n",
       "    </tr>\n",
       "  </thead>\n",
       "  <tbody>\n",
       "    <tr>\n",
       "      <th>0</th>\n",
       "      <td>5f10e2439806fb0eb6106b25</td>\n",
       "      <td>5ee2dddb2acfc1edcfbbb93a</td>\n",
       "      <td>NaN</td>\n",
       "      <td>NaN</td>\n",
       "      <td>NaN</td>\n",
       "      <td>Nein</td>\n",
       "      <td>Ja</td>\n",
       "      <td>Ja</td>\n",
       "      <td>NaN</td>\n",
       "      <td>NaN</td>\n",
       "      <td>...</td>\n",
       "      <td>False</td>\n",
       "      <td>False</td>\n",
       "      <td>False</td>\n",
       "      <td>False</td>\n",
       "      <td>Nein</td>\n",
       "      <td>NaN</td>\n",
       "      <td>NaN</td>\n",
       "      <td>Nein</td>\n",
       "      <td>NaN</td>\n",
       "      <td>NaN</td>\n",
       "    </tr>\n",
       "    <tr>\n",
       "      <th>1</th>\n",
       "      <td>5f154b89852139231e2e1eb1</td>\n",
       "      <td>5ee2dddb2acfc1edcfbbb93a</td>\n",
       "      <td>NaN</td>\n",
       "      <td>NaN</td>\n",
       "      <td>NaN</td>\n",
       "      <td>Nein</td>\n",
       "      <td>Ja</td>\n",
       "      <td>Ja</td>\n",
       "      <td>NaN</td>\n",
       "      <td>NaN</td>\n",
       "      <td>...</td>\n",
       "      <td>True</td>\n",
       "      <td>True</td>\n",
       "      <td>True</td>\n",
       "      <td>True</td>\n",
       "      <td>Ja, mit Mitarbeiter,Ja, mit Patient,Ja, mit Ha...</td>\n",
       "      <td>NaN</td>\n",
       "      <td>NaN</td>\n",
       "      <td>Ja ständig</td>\n",
       "      <td>True</td>\n",
       "      <td>Nein</td>\n",
       "    </tr>\n",
       "    <tr>\n",
       "      <th>2</th>\n",
       "      <td>5f1553a9852139231e2ea78d</td>\n",
       "      <td>5ee2dddb2acfc1edcfbbb93a</td>\n",
       "      <td>NaN</td>\n",
       "      <td>NaN</td>\n",
       "      <td>NaN</td>\n",
       "      <td>Nein</td>\n",
       "      <td>Ja</td>\n",
       "      <td>Ja</td>\n",
       "      <td>NaN</td>\n",
       "      <td>NaN</td>\n",
       "      <td>...</td>\n",
       "      <td>False</td>\n",
       "      <td>False</td>\n",
       "      <td>False</td>\n",
       "      <td>False</td>\n",
       "      <td>Nein</td>\n",
       "      <td>NaN</td>\n",
       "      <td>NaN</td>\n",
       "      <td>Nein</td>\n",
       "      <td>NaN</td>\n",
       "      <td>NaN</td>\n",
       "    </tr>\n",
       "    <tr>\n",
       "      <th>3</th>\n",
       "      <td>5f1553d0852139231e2ea7aa</td>\n",
       "      <td>5ef089e73164e4917926645c</td>\n",
       "      <td>132.0</td>\n",
       "      <td>KSG0001320622</td>\n",
       "      <td>9000.0</td>\n",
       "      <td>Nein</td>\n",
       "      <td>Ja</td>\n",
       "      <td>Ja</td>\n",
       "      <td>1992-05-26</td>\n",
       "      <td>MALE</td>\n",
       "      <td>...</td>\n",
       "      <td>False</td>\n",
       "      <td>False</td>\n",
       "      <td>False</td>\n",
       "      <td>False</td>\n",
       "      <td>Ja, mit Patient</td>\n",
       "      <td>NaN</td>\n",
       "      <td>NaN</td>\n",
       "      <td>Ja, aber manchmal schalte ich sie aus</td>\n",
       "      <td>False</td>\n",
       "      <td>NaN</td>\n",
       "    </tr>\n",
       "    <tr>\n",
       "      <th>4</th>\n",
       "      <td>5f155476852139231e2ea7f5</td>\n",
       "      <td>5ef089e73164e4917926645c</td>\n",
       "      <td>132.0</td>\n",
       "      <td>KSG0001320622</td>\n",
       "      <td>9000.0</td>\n",
       "      <td>Nein</td>\n",
       "      <td>Ja</td>\n",
       "      <td>Ja</td>\n",
       "      <td>1992-05-26</td>\n",
       "      <td>MALE</td>\n",
       "      <td>...</td>\n",
       "      <td>False</td>\n",
       "      <td>False</td>\n",
       "      <td>False</td>\n",
       "      <td>False</td>\n",
       "      <td>Nein</td>\n",
       "      <td>False</td>\n",
       "      <td>NaN</td>\n",
       "      <td>Nein</td>\n",
       "      <td>NaN</td>\n",
       "      <td>NaN</td>\n",
       "    </tr>\n",
       "  </tbody>\n",
       "</table>\n",
       "<p>5 rows × 51 columns</p>\n",
       "</div>"
      ],
      "text/plain": [
       "                   surveyId                    userId    cId            oNo  \\\n",
       "0  5f10e2439806fb0eb6106b25  5ee2dddb2acfc1edcfbbb93a    NaN            NaN   \n",
       "1  5f154b89852139231e2e1eb1  5ee2dddb2acfc1edcfbbb93a    NaN            NaN   \n",
       "2  5f1553a9852139231e2ea78d  5ee2dddb2acfc1edcfbbb93a    NaN            NaN   \n",
       "3  5f1553d0852139231e2ea7aa  5ef089e73164e4917926645c  132.0  KSG0001320622   \n",
       "4  5f155476852139231e2ea7f5  5ef089e73164e4917926645c  132.0  KSG0001320622   \n",
       "\n",
       "      plz dropout weeklySms weeklyEmail dateOfBirth gender  ...     30     31  \\\n",
       "0     NaN    Nein        Ja          Ja         NaN    NaN  ...  False  False   \n",
       "1     NaN    Nein        Ja          Ja         NaN    NaN  ...   True   True   \n",
       "2     NaN    Nein        Ja          Ja         NaN    NaN  ...  False  False   \n",
       "3  9000.0    Nein        Ja          Ja  1992-05-26   MALE  ...  False  False   \n",
       "4  9000.0    Nein        Ja          Ja  1992-05-26   MALE  ...  False  False   \n",
       "\n",
       "      32     33                                                 34     35  \\\n",
       "0  False  False                                               Nein    NaN   \n",
       "1   True   True  Ja, mit Mitarbeiter,Ja, mit Patient,Ja, mit Ha...    NaN   \n",
       "2  False  False                                               Nein    NaN   \n",
       "3  False  False                                    Ja, mit Patient    NaN   \n",
       "4  False  False                                               Nein  False   \n",
       "\n",
       "    36                                     37     38    39  \n",
       "0  NaN                                   Nein    NaN   NaN  \n",
       "1  NaN                             Ja ständig   True  Nein  \n",
       "2  NaN                                   Nein    NaN   NaN  \n",
       "3  NaN  Ja, aber manchmal schalte ich sie aus  False   NaN  \n",
       "4  NaN                                   Nein    NaN   NaN  \n",
       "\n",
       "[5 rows x 51 columns]"
      ]
     },
     "execution_count": 72,
     "metadata": {},
     "output_type": "execute_result"
    }
   ],
   "source": [
    "df1.head()"
   ]
  },
  {
   "cell_type": "code",
   "execution_count": 73,
   "metadata": {},
   "outputs": [],
   "source": [
    "df1['date'] = pd.to_datetime(df1['date']) - pd.to_timedelta(7, unit = 'd')"
   ]
  },
  {
   "cell_type": "code",
   "execution_count": null,
   "metadata": {},
   "outputs": [],
   "source": [
    "for date in df1['date']:\n",
    "    ### Remover duplicatas de Ids"
   ]
  },
  {
   "cell_type": "code",
   "execution_count": 90,
   "metadata": {},
   "outputs": [
    {
     "data": {
      "text/plain": [
       "1    5ee2dddb2acfc1edcfbbb93a\n",
       "2    5ee2dddb2acfc1edcfbbb93a\n",
       "3    5ef089e73164e4917926645c\n",
       "4    5ef089e73164e4917926645c\n",
       "Name: userId, dtype: object"
      ]
     },
     "execution_count": 90,
     "metadata": {},
     "output_type": "execute_result"
    }
   ],
   "source": [
    "df1[df1['date'] == df1['date'][1]]['userId']"
   ]
  },
  {
   "cell_type": "code",
   "execution_count": 240,
   "metadata": {},
   "outputs": [
    {
     "name": "stderr",
     "output_type": "stream",
     "text": [
      "<ipython-input-240-f868c4b8c59d>:1: FutureWarning:\n",
      "\n",
      "Indexing with multiple keys (implicitly converted to a tuple of keys) will be deprecated, use a list instead.\n",
      "\n"
     ]
    }
   ],
   "source": [
    "grouped_df = df1.groupby(['userId', pd.Grouper(key='date', freq='W-MON')])['2', '3', '4', '12', '14', '15'].first().reset_index().sort_values('date')"
   ]
  },
  {
   "cell_type": "code",
   "execution_count": 243,
   "metadata": {},
   "outputs": [
    {
     "data": {
      "text/plain": [
       "array([0, 1])"
      ]
     },
     "execution_count": 243,
     "metadata": {},
     "output_type": "execute_result"
    }
   ],
   "source": [
    "grouped_df['2'].unique()"
   ]
  },
  {
   "cell_type": "code",
   "execution_count": 213,
   "metadata": {},
   "outputs": [],
   "source": [
    "symp_dict = {\n",
    "    '2': 'sore_throat',\n",
    "    '3': 'cough',\n",
    "    '4': 'shortness_breath',\n",
    "    '12': 'fever',\n",
    "    '14': 'limb_muscle_pain',\n",
    "    '15': 'loss_of_taste_smell'\n",
    "}\n",
    "\n",
    "def __replace_symptom(cols):\n",
    "    for n, i in enumerate(cols):\n",
    "        if i in symp_dict.keys():\n",
    "            cols[n] = symp_dict[i]\n",
    "    return cols\n",
    "\n",
    "def __calc_foph(row):\n",
    "        if row.fever == 1 or row.cough == 1 or row.shortness_breath == 1 or row.sore_throat == 1 or row.loss_of_taste_smell == 1:\n",
    "            foph = 1\n",
    "        else:\n",
    "            foph = 0\n",
    "        \n",
    "        return foph"
   ]
  },
  {
   "cell_type": "code",
   "execution_count": 214,
   "metadata": {},
   "outputs": [
    {
     "ename": "AttributeError",
     "evalue": "'Series' object has no attribute 'fever'",
     "output_type": "error",
     "traceback": [
      "\u001b[0;31m---------------------------------------------------------------------------\u001b[0m",
      "\u001b[0;31mAttributeError\u001b[0m                            Traceback (most recent call last)",
      "\u001b[0;32m<ipython-input-214-63a97e92d75e>\u001b[0m in \u001b[0;36m<module>\u001b[0;34m\u001b[0m\n\u001b[1;32m      2\u001b[0m \u001b[0mcols\u001b[0m \u001b[0;34m=\u001b[0m \u001b[0m__replace_symptom\u001b[0m\u001b[0;34m(\u001b[0m\u001b[0mcols\u001b[0m\u001b[0;34m)\u001b[0m\u001b[0;34m\u001b[0m\u001b[0;34m\u001b[0m\u001b[0m\n\u001b[1;32m      3\u001b[0m \u001b[0mgrouped_df\u001b[0m\u001b[0;34m.\u001b[0m\u001b[0mcolumns\u001b[0m \u001b[0;34m=\u001b[0m \u001b[0mcols\u001b[0m\u001b[0;34m\u001b[0m\u001b[0;34m\u001b[0m\u001b[0m\n\u001b[0;32m----> 4\u001b[0;31m \u001b[0mgrouped_df\u001b[0m\u001b[0;34m[\u001b[0m\u001b[0;34m'foph'\u001b[0m\u001b[0;34m]\u001b[0m \u001b[0;34m=\u001b[0m \u001b[0mgrouped_df\u001b[0m\u001b[0;34m.\u001b[0m\u001b[0mapply\u001b[0m\u001b[0;34m(\u001b[0m\u001b[0m__calc_foph\u001b[0m\u001b[0;34m,\u001b[0m \u001b[0maxis\u001b[0m \u001b[0;34m=\u001b[0m \u001b[0;36m1\u001b[0m\u001b[0;34m)\u001b[0m\u001b[0;34m\u001b[0m\u001b[0;34m\u001b[0m\u001b[0m\n\u001b[0m",
      "\u001b[0;32m~/anaconda3/lib/python3.8/site-packages/pandas/core/frame.py\u001b[0m in \u001b[0;36mapply\u001b[0;34m(self, func, axis, raw, result_type, args, **kwds)\u001b[0m\n\u001b[1;32m   7546\u001b[0m             \u001b[0mkwds\u001b[0m\u001b[0;34m=\u001b[0m\u001b[0mkwds\u001b[0m\u001b[0;34m,\u001b[0m\u001b[0;34m\u001b[0m\u001b[0;34m\u001b[0m\u001b[0m\n\u001b[1;32m   7547\u001b[0m         )\n\u001b[0;32m-> 7548\u001b[0;31m         \u001b[0;32mreturn\u001b[0m \u001b[0mop\u001b[0m\u001b[0;34m.\u001b[0m\u001b[0mget_result\u001b[0m\u001b[0;34m(\u001b[0m\u001b[0;34m)\u001b[0m\u001b[0;34m\u001b[0m\u001b[0;34m\u001b[0m\u001b[0m\n\u001b[0m\u001b[1;32m   7549\u001b[0m \u001b[0;34m\u001b[0m\u001b[0m\n\u001b[1;32m   7550\u001b[0m     \u001b[0;32mdef\u001b[0m \u001b[0mapplymap\u001b[0m\u001b[0;34m(\u001b[0m\u001b[0mself\u001b[0m\u001b[0;34m,\u001b[0m \u001b[0mfunc\u001b[0m\u001b[0;34m)\u001b[0m \u001b[0;34m->\u001b[0m \u001b[0;34m\"DataFrame\"\u001b[0m\u001b[0;34m:\u001b[0m\u001b[0;34m\u001b[0m\u001b[0;34m\u001b[0m\u001b[0m\n",
      "\u001b[0;32m~/anaconda3/lib/python3.8/site-packages/pandas/core/apply.py\u001b[0m in \u001b[0;36mget_result\u001b[0;34m(self)\u001b[0m\n\u001b[1;32m    178\u001b[0m             \u001b[0;32mreturn\u001b[0m \u001b[0mself\u001b[0m\u001b[0;34m.\u001b[0m\u001b[0mapply_raw\u001b[0m\u001b[0;34m(\u001b[0m\u001b[0;34m)\u001b[0m\u001b[0;34m\u001b[0m\u001b[0;34m\u001b[0m\u001b[0m\n\u001b[1;32m    179\u001b[0m \u001b[0;34m\u001b[0m\u001b[0m\n\u001b[0;32m--> 180\u001b[0;31m         \u001b[0;32mreturn\u001b[0m \u001b[0mself\u001b[0m\u001b[0;34m.\u001b[0m\u001b[0mapply_standard\u001b[0m\u001b[0;34m(\u001b[0m\u001b[0;34m)\u001b[0m\u001b[0;34m\u001b[0m\u001b[0;34m\u001b[0m\u001b[0m\n\u001b[0m\u001b[1;32m    181\u001b[0m \u001b[0;34m\u001b[0m\u001b[0m\n\u001b[1;32m    182\u001b[0m     \u001b[0;32mdef\u001b[0m \u001b[0mapply_empty_result\u001b[0m\u001b[0;34m(\u001b[0m\u001b[0mself\u001b[0m\u001b[0;34m)\u001b[0m\u001b[0;34m:\u001b[0m\u001b[0;34m\u001b[0m\u001b[0;34m\u001b[0m\u001b[0m\n",
      "\u001b[0;32m~/anaconda3/lib/python3.8/site-packages/pandas/core/apply.py\u001b[0m in \u001b[0;36mapply_standard\u001b[0;34m(self)\u001b[0m\n\u001b[1;32m    269\u001b[0m \u001b[0;34m\u001b[0m\u001b[0m\n\u001b[1;32m    270\u001b[0m     \u001b[0;32mdef\u001b[0m \u001b[0mapply_standard\u001b[0m\u001b[0;34m(\u001b[0m\u001b[0mself\u001b[0m\u001b[0;34m)\u001b[0m\u001b[0;34m:\u001b[0m\u001b[0;34m\u001b[0m\u001b[0;34m\u001b[0m\u001b[0m\n\u001b[0;32m--> 271\u001b[0;31m         \u001b[0mresults\u001b[0m\u001b[0;34m,\u001b[0m \u001b[0mres_index\u001b[0m \u001b[0;34m=\u001b[0m \u001b[0mself\u001b[0m\u001b[0;34m.\u001b[0m\u001b[0mapply_series_generator\u001b[0m\u001b[0;34m(\u001b[0m\u001b[0;34m)\u001b[0m\u001b[0;34m\u001b[0m\u001b[0;34m\u001b[0m\u001b[0m\n\u001b[0m\u001b[1;32m    272\u001b[0m \u001b[0;34m\u001b[0m\u001b[0m\n\u001b[1;32m    273\u001b[0m         \u001b[0;31m# wrap results\u001b[0m\u001b[0;34m\u001b[0m\u001b[0;34m\u001b[0m\u001b[0;34m\u001b[0m\u001b[0m\n",
      "\u001b[0;32m~/anaconda3/lib/python3.8/site-packages/pandas/core/apply.py\u001b[0m in \u001b[0;36mapply_series_generator\u001b[0;34m(self)\u001b[0m\n\u001b[1;32m    298\u001b[0m                 \u001b[0;32mfor\u001b[0m \u001b[0mi\u001b[0m\u001b[0;34m,\u001b[0m \u001b[0mv\u001b[0m \u001b[0;32min\u001b[0m \u001b[0menumerate\u001b[0m\u001b[0;34m(\u001b[0m\u001b[0mseries_gen\u001b[0m\u001b[0;34m)\u001b[0m\u001b[0;34m:\u001b[0m\u001b[0;34m\u001b[0m\u001b[0;34m\u001b[0m\u001b[0m\n\u001b[1;32m    299\u001b[0m                     \u001b[0;31m# ignore SettingWithCopy here in case the user mutates\u001b[0m\u001b[0;34m\u001b[0m\u001b[0;34m\u001b[0m\u001b[0;34m\u001b[0m\u001b[0m\n\u001b[0;32m--> 300\u001b[0;31m                     \u001b[0mresults\u001b[0m\u001b[0;34m[\u001b[0m\u001b[0mi\u001b[0m\u001b[0;34m]\u001b[0m \u001b[0;34m=\u001b[0m \u001b[0mself\u001b[0m\u001b[0;34m.\u001b[0m\u001b[0mf\u001b[0m\u001b[0;34m(\u001b[0m\u001b[0mv\u001b[0m\u001b[0;34m)\u001b[0m\u001b[0;34m\u001b[0m\u001b[0;34m\u001b[0m\u001b[0m\n\u001b[0m\u001b[1;32m    301\u001b[0m                     \u001b[0;32mif\u001b[0m \u001b[0misinstance\u001b[0m\u001b[0;34m(\u001b[0m\u001b[0mresults\u001b[0m\u001b[0;34m[\u001b[0m\u001b[0mi\u001b[0m\u001b[0;34m]\u001b[0m\u001b[0;34m,\u001b[0m \u001b[0mABCSeries\u001b[0m\u001b[0;34m)\u001b[0m\u001b[0;34m:\u001b[0m\u001b[0;34m\u001b[0m\u001b[0;34m\u001b[0m\u001b[0m\n\u001b[1;32m    302\u001b[0m                         \u001b[0;31m# If we have a view on v, we need to make a copy because\u001b[0m\u001b[0;34m\u001b[0m\u001b[0;34m\u001b[0m\u001b[0;34m\u001b[0m\u001b[0m\n",
      "\u001b[0;32m<ipython-input-213-a9306319aa9c>\u001b[0m in \u001b[0;36m__calc_foph\u001b[0;34m(row)\u001b[0m\n\u001b[1;32m     15\u001b[0m \u001b[0;34m\u001b[0m\u001b[0m\n\u001b[1;32m     16\u001b[0m \u001b[0;32mdef\u001b[0m \u001b[0m__calc_foph\u001b[0m\u001b[0;34m(\u001b[0m\u001b[0mrow\u001b[0m\u001b[0;34m)\u001b[0m\u001b[0;34m:\u001b[0m\u001b[0;34m\u001b[0m\u001b[0;34m\u001b[0m\u001b[0m\n\u001b[0;32m---> 17\u001b[0;31m         \u001b[0;32mif\u001b[0m \u001b[0mrow\u001b[0m\u001b[0;34m.\u001b[0m\u001b[0mfever\u001b[0m \u001b[0;34m==\u001b[0m \u001b[0;36m1\u001b[0m \u001b[0;32mor\u001b[0m \u001b[0mrow\u001b[0m\u001b[0;34m.\u001b[0m\u001b[0mcough\u001b[0m \u001b[0;34m==\u001b[0m \u001b[0;36m1\u001b[0m \u001b[0;32mor\u001b[0m \u001b[0mrow\u001b[0m\u001b[0;34m.\u001b[0m\u001b[0mshortness_breath\u001b[0m \u001b[0;34m==\u001b[0m \u001b[0;36m1\u001b[0m \u001b[0;32mor\u001b[0m \u001b[0mrow\u001b[0m\u001b[0;34m.\u001b[0m\u001b[0msore_throat\u001b[0m \u001b[0;34m==\u001b[0m \u001b[0;36m1\u001b[0m \u001b[0;32mor\u001b[0m \u001b[0mrow\u001b[0m\u001b[0;34m.\u001b[0m\u001b[0mloss_of_taste_smell\u001b[0m \u001b[0;34m==\u001b[0m \u001b[0;36m1\u001b[0m\u001b[0;34m:\u001b[0m\u001b[0;34m\u001b[0m\u001b[0;34m\u001b[0m\u001b[0m\n\u001b[0m\u001b[1;32m     18\u001b[0m             \u001b[0mfoph\u001b[0m \u001b[0;34m=\u001b[0m \u001b[0;36m1\u001b[0m\u001b[0;34m\u001b[0m\u001b[0;34m\u001b[0m\u001b[0m\n\u001b[1;32m     19\u001b[0m         \u001b[0;32melse\u001b[0m\u001b[0;34m:\u001b[0m\u001b[0;34m\u001b[0m\u001b[0;34m\u001b[0m\u001b[0m\n",
      "\u001b[0;32m~/anaconda3/lib/python3.8/site-packages/pandas/core/generic.py\u001b[0m in \u001b[0;36m__getattr__\u001b[0;34m(self, name)\u001b[0m\n\u001b[1;32m   5137\u001b[0m             \u001b[0;32mif\u001b[0m \u001b[0mself\u001b[0m\u001b[0;34m.\u001b[0m\u001b[0m_info_axis\u001b[0m\u001b[0;34m.\u001b[0m\u001b[0m_can_hold_identifiers_and_holds_name\u001b[0m\u001b[0;34m(\u001b[0m\u001b[0mname\u001b[0m\u001b[0;34m)\u001b[0m\u001b[0;34m:\u001b[0m\u001b[0;34m\u001b[0m\u001b[0;34m\u001b[0m\u001b[0m\n\u001b[1;32m   5138\u001b[0m                 \u001b[0;32mreturn\u001b[0m \u001b[0mself\u001b[0m\u001b[0;34m[\u001b[0m\u001b[0mname\u001b[0m\u001b[0;34m]\u001b[0m\u001b[0;34m\u001b[0m\u001b[0;34m\u001b[0m\u001b[0m\n\u001b[0;32m-> 5139\u001b[0;31m             \u001b[0;32mreturn\u001b[0m \u001b[0mobject\u001b[0m\u001b[0;34m.\u001b[0m\u001b[0m__getattribute__\u001b[0m\u001b[0;34m(\u001b[0m\u001b[0mself\u001b[0m\u001b[0;34m,\u001b[0m \u001b[0mname\u001b[0m\u001b[0;34m)\u001b[0m\u001b[0;34m\u001b[0m\u001b[0;34m\u001b[0m\u001b[0m\n\u001b[0m\u001b[1;32m   5140\u001b[0m \u001b[0;34m\u001b[0m\u001b[0m\n\u001b[1;32m   5141\u001b[0m     \u001b[0;32mdef\u001b[0m \u001b[0m__setattr__\u001b[0m\u001b[0;34m(\u001b[0m\u001b[0mself\u001b[0m\u001b[0;34m,\u001b[0m \u001b[0mname\u001b[0m\u001b[0;34m:\u001b[0m \u001b[0mstr\u001b[0m\u001b[0;34m,\u001b[0m \u001b[0mvalue\u001b[0m\u001b[0;34m)\u001b[0m \u001b[0;34m->\u001b[0m \u001b[0;32mNone\u001b[0m\u001b[0;34m:\u001b[0m\u001b[0;34m\u001b[0m\u001b[0;34m\u001b[0m\u001b[0m\n",
      "\u001b[0;31mAttributeError\u001b[0m: 'Series' object has no attribute 'fever'"
     ]
    }
   ],
   "source": [
    "cols = grouped_df.columns.to_list()\n",
    "cols = __replace_symptom(cols)\n",
    "grouped_df.columns = cols\n",
    "grouped_df['foph'] = grouped_df.apply(__calc_foph, axis = 1)\n"
   ]
  },
  {
   "cell_type": "code",
   "execution_count": 176,
   "metadata": {},
   "outputs": [
    {
     "data": {
      "text/plain": [
       "2054"
      ]
     },
     "execution_count": 176,
     "metadata": {},
     "output_type": "execute_result"
    }
   ],
   "source": [
    "grouped_df[grouped_df['date'] == '2020-10-19']['userId']"
   ]
  },
  {
   "cell_type": "code",
   "execution_count": 105,
   "metadata": {},
   "outputs": [
    {
     "data": {
      "text/plain": [
       "0.035394098877041424"
      ]
     },
     "execution_count": 105,
     "metadata": {},
     "output_type": "execute_result"
    }
   ],
   "source": [
    "df2[df2['date_week'] == '2020-08-03']['Sore throat'].mean()"
   ]
  },
  {
   "cell_type": "code",
   "execution_count": 81,
   "metadata": {},
   "outputs": [
    {
     "data": {
      "text/plain": [
       "0        0\n",
       "889      1\n",
       "13478    0\n",
       "28756    0\n",
       "13458    0\n",
       "        ..\n",
       "11852    0\n",
       "11862    0\n",
       "11882    0\n",
       "11892    0\n",
       "31094    0\n",
       "Name: sore_throat, Length: 31095, dtype: object"
      ]
     },
     "execution_count": 81,
     "metadata": {},
     "output_type": "execute_result"
    }
   ],
   "source": [
    "grouped_df['sore_throat']"
   ]
  },
  {
   "cell_type": "code",
   "execution_count": 221,
   "metadata": {},
   "outputs": [],
   "source": [
    "ratio_series = []\n",
    "for date in grouped_df['date'].unique():\n",
    "    date_df = grouped_df[grouped_df['date'] == date]\n",
    "    positives = len(date_df[date_df['sore_throat'] == 1])\n",
    "    negatives = len(date_df[date_df['sore_throat'] == 0])\n",
    "\n",
    "    if negatives == 0:\n",
    "        ratio = 1.0\n",
    "    else:\n",
    "        ratio = positives / negatives\n",
    "\n",
    "    ratio_series.append(ratio)"
   ]
  },
  {
   "cell_type": "code",
   "execution_count": 222,
   "metadata": {},
   "outputs": [
    {
     "data": {
      "text/plain": [
       "[1.0,\n",
       " 0.03991130820399113,\n",
       " 0.035727860129228434,\n",
       " 0.03168724279835391,\n",
       " 0.028815848716794237,\n",
       " 0.03913978494623656,\n",
       " 0.04984828781967924,\n",
       " 0.039634146341463415,\n",
       " 0.043515725980180955,\n",
       " 0.045394446892904367,\n",
       " 0.047332185886402756,\n",
       " 0.04991539763113367,\n",
       " 0.050597609561752986,\n",
       " 0.07972544878563886]"
      ]
     },
     "execution_count": 222,
     "metadata": {},
     "output_type": "execute_result"
    }
   ],
   "source": [
    "ratio_series"
   ]
  },
  {
   "cell_type": "code",
   "execution_count": 186,
   "metadata": {},
   "outputs": [
    {
     "data": {
      "text/plain": [
       "0.048535734260302055"
      ]
     },
     "execution_count": 186,
     "metadata": {},
     "output_type": "execute_result"
    }
   ],
   "source": [
    "df2[df2['date_week'] == '2020-08-03']['FOPH'].mean()"
   ]
  },
  {
   "cell_type": "code",
   "execution_count": 204,
   "metadata": {},
   "outputs": [],
   "source": [
    "df1.fillna(0, inplace=True)"
   ]
  },
  {
   "cell_type": "code",
   "execution_count": 210,
   "metadata": {},
   "outputs": [],
   "source": [
    "df1['2'] = df1['2'].astype(int)"
   ]
  },
  {
   "cell_type": "code",
   "execution_count": 211,
   "metadata": {},
   "outputs": [
    {
     "data": {
      "text/plain": [
       "0    37068\n",
       "1     1482\n",
       "Name: 2, dtype: int64"
      ]
     },
     "execution_count": 211,
     "metadata": {},
     "output_type": "execute_result"
    }
   ],
   "source": [
    "df1['2'].value_counts()"
   ]
  },
  {
   "cell_type": "code",
   "execution_count": 193,
   "metadata": {},
   "outputs": [
    {
     "data": {
      "text/plain": [
       "38550"
      ]
     },
     "execution_count": 193,
     "metadata": {},
     "output_type": "execute_result"
    }
   ],
   "source": [
    "len(df1['2'])"
   ]
  },
  {
   "cell_type": "code",
   "execution_count": 220,
   "metadata": {},
   "outputs": [
    {
     "data": {
      "text/plain": [
       "0    29697\n",
       "1     1315\n",
       "2       82\n",
       "3        1\n",
       "Name: sore_throat, dtype: int64"
      ]
     },
     "execution_count": 220,
     "metadata": {},
     "output_type": "execute_result"
    }
   ],
   "source": [
    "grouped_df['sore_throat'].value_counts()"
   ]
  },
  {
   "cell_type": "code",
   "execution_count": 198,
   "metadata": {},
   "outputs": [
    {
     "data": {
      "text/html": [
       "<div>\n",
       "<style scoped>\n",
       "    .dataframe tbody tr th:only-of-type {\n",
       "        vertical-align: middle;\n",
       "    }\n",
       "\n",
       "    .dataframe tbody tr th {\n",
       "        vertical-align: top;\n",
       "    }\n",
       "\n",
       "    .dataframe thead th {\n",
       "        text-align: right;\n",
       "    }\n",
       "</style>\n",
       "<table border=\"1\" class=\"dataframe\">\n",
       "  <thead>\n",
       "    <tr style=\"text-align: right;\">\n",
       "      <th></th>\n",
       "      <th>date_week</th>\n",
       "      <th>institution</th>\n",
       "      <th>userId_unq</th>\n",
       "      <th>Fever</th>\n",
       "      <th>Sore throat</th>\n",
       "      <th>Cough</th>\n",
       "      <th>Shortness of breath</th>\n",
       "      <th>Runny nose</th>\n",
       "      <th>Limb muscle pain</th>\n",
       "      <th>Loss of taste</th>\n",
       "      <th>Positive results</th>\n",
       "      <th>FOPH</th>\n",
       "      <th>Frequency of positives</th>\n",
       "      <th>tested_sars_cov_2_n_true</th>\n",
       "    </tr>\n",
       "  </thead>\n",
       "  <tbody>\n",
       "    <tr>\n",
       "      <th>0</th>\n",
       "      <td>2020-08-03</td>\n",
       "      <td>Blutspende SRK Ostschweiz</td>\n",
       "      <td>22</td>\n",
       "      <td>NaN</td>\n",
       "      <td>NaN</td>\n",
       "      <td>NaN</td>\n",
       "      <td>NaN</td>\n",
       "      <td>NaN</td>\n",
       "      <td>NaN</td>\n",
       "      <td>NaN</td>\n",
       "      <td>0.000000</td>\n",
       "      <td>NaN</td>\n",
       "      <td>0</td>\n",
       "      <td>0</td>\n",
       "    </tr>\n",
       "    <tr>\n",
       "      <th>1</th>\n",
       "      <td>2020-08-03</td>\n",
       "      <td>Clienia Littenheid AG</td>\n",
       "      <td>129</td>\n",
       "      <td>0.006329</td>\n",
       "      <td>0.050633</td>\n",
       "      <td>0.012658</td>\n",
       "      <td>0.000000</td>\n",
       "      <td>0.031646</td>\n",
       "      <td>0.031646</td>\n",
       "      <td>0.000000</td>\n",
       "      <td>0.000000</td>\n",
       "      <td>0.050633</td>\n",
       "      <td>0</td>\n",
       "      <td>4</td>\n",
       "    </tr>\n",
       "    <tr>\n",
       "      <th>2</th>\n",
       "      <td>2020-08-03</td>\n",
       "      <td>Geriatrische Klinik St. Gallen</td>\n",
       "      <td>77</td>\n",
       "      <td>0.000000</td>\n",
       "      <td>0.022222</td>\n",
       "      <td>0.011111</td>\n",
       "      <td>0.000000</td>\n",
       "      <td>0.000000</td>\n",
       "      <td>0.000000</td>\n",
       "      <td>0.000000</td>\n",
       "      <td>0.000000</td>\n",
       "      <td>0.022222</td>\n",
       "      <td>0</td>\n",
       "      <td>2</td>\n",
       "    </tr>\n",
       "    <tr>\n",
       "      <th>3</th>\n",
       "      <td>2020-08-03</td>\n",
       "      <td>Hirslanden Zürich</td>\n",
       "      <td>243</td>\n",
       "      <td>0.006969</td>\n",
       "      <td>0.048780</td>\n",
       "      <td>0.052265</td>\n",
       "      <td>0.010453</td>\n",
       "      <td>0.045296</td>\n",
       "      <td>0.034843</td>\n",
       "      <td>0.003484</td>\n",
       "      <td>0.000000</td>\n",
       "      <td>0.069686</td>\n",
       "      <td>0</td>\n",
       "      <td>9</td>\n",
       "    </tr>\n",
       "    <tr>\n",
       "      <th>4</th>\n",
       "      <td>2020-08-03</td>\n",
       "      <td>Kantonsspital Baden</td>\n",
       "      <td>671</td>\n",
       "      <td>0.002751</td>\n",
       "      <td>0.044017</td>\n",
       "      <td>0.022008</td>\n",
       "      <td>0.004127</td>\n",
       "      <td>0.035763</td>\n",
       "      <td>0.019257</td>\n",
       "      <td>0.000000</td>\n",
       "      <td>0.001376</td>\n",
       "      <td>0.052270</td>\n",
       "      <td>1</td>\n",
       "      <td>28</td>\n",
       "    </tr>\n",
       "    <tr>\n",
       "      <th>...</th>\n",
       "      <td>...</td>\n",
       "      <td>...</td>\n",
       "      <td>...</td>\n",
       "      <td>...</td>\n",
       "      <td>...</td>\n",
       "      <td>...</td>\n",
       "      <td>...</td>\n",
       "      <td>...</td>\n",
       "      <td>...</td>\n",
       "      <td>...</td>\n",
       "      <td>...</td>\n",
       "      <td>...</td>\n",
       "      <td>...</td>\n",
       "      <td>...</td>\n",
       "    </tr>\n",
       "    <tr>\n",
       "      <th>546</th>\n",
       "      <td>2021-01-04</td>\n",
       "      <td>SRRWS Altstätten</td>\n",
       "      <td>49</td>\n",
       "      <td>0.000000</td>\n",
       "      <td>0.057692</td>\n",
       "      <td>0.038462</td>\n",
       "      <td>0.000000</td>\n",
       "      <td>0.096154</td>\n",
       "      <td>0.038462</td>\n",
       "      <td>0.019231</td>\n",
       "      <td>0.019231</td>\n",
       "      <td>0.076923</td>\n",
       "      <td>1</td>\n",
       "      <td>2</td>\n",
       "    </tr>\n",
       "    <tr>\n",
       "      <th>547</th>\n",
       "      <td>2021-01-04</td>\n",
       "      <td>SRRWS Grabs</td>\n",
       "      <td>177</td>\n",
       "      <td>0.000000</td>\n",
       "      <td>0.053476</td>\n",
       "      <td>0.069519</td>\n",
       "      <td>0.005348</td>\n",
       "      <td>0.096257</td>\n",
       "      <td>0.058824</td>\n",
       "      <td>0.037433</td>\n",
       "      <td>0.048128</td>\n",
       "      <td>0.085561</td>\n",
       "      <td>9</td>\n",
       "      <td>19</td>\n",
       "    </tr>\n",
       "    <tr>\n",
       "      <th>548</th>\n",
       "      <td>2021-01-04</td>\n",
       "      <td>SRRWS Walenstadt</td>\n",
       "      <td>61</td>\n",
       "      <td>0.000000</td>\n",
       "      <td>0.093750</td>\n",
       "      <td>0.031250</td>\n",
       "      <td>0.000000</td>\n",
       "      <td>0.046875</td>\n",
       "      <td>0.015625</td>\n",
       "      <td>0.000000</td>\n",
       "      <td>0.000000</td>\n",
       "      <td>0.109375</td>\n",
       "      <td>0</td>\n",
       "      <td>2</td>\n",
       "    </tr>\n",
       "    <tr>\n",
       "      <th>549</th>\n",
       "      <td>2021-01-04</td>\n",
       "      <td>STGAG Frauenfeld</td>\n",
       "      <td>94</td>\n",
       "      <td>0.010309</td>\n",
       "      <td>0.020619</td>\n",
       "      <td>0.041237</td>\n",
       "      <td>0.000000</td>\n",
       "      <td>0.041237</td>\n",
       "      <td>0.020619</td>\n",
       "      <td>0.010309</td>\n",
       "      <td>0.010309</td>\n",
       "      <td>0.061856</td>\n",
       "      <td>1</td>\n",
       "      <td>5</td>\n",
       "    </tr>\n",
       "    <tr>\n",
       "      <th>550</th>\n",
       "      <td>2021-01-04</td>\n",
       "      <td>STGAG Münsterlingen</td>\n",
       "      <td>105</td>\n",
       "      <td>0.000000</td>\n",
       "      <td>0.050847</td>\n",
       "      <td>0.050847</td>\n",
       "      <td>0.008475</td>\n",
       "      <td>0.084746</td>\n",
       "      <td>0.008475</td>\n",
       "      <td>0.016949</td>\n",
       "      <td>0.000000</td>\n",
       "      <td>0.084746</td>\n",
       "      <td>0</td>\n",
       "      <td>9</td>\n",
       "    </tr>\n",
       "  </tbody>\n",
       "</table>\n",
       "<p>551 rows × 14 columns</p>\n",
       "</div>"
      ],
      "text/plain": [
       "      date_week                     institution  userId_unq     Fever  \\\n",
       "0    2020-08-03       Blutspende SRK Ostschweiz          22       NaN   \n",
       "1    2020-08-03           Clienia Littenheid AG         129  0.006329   \n",
       "2    2020-08-03  Geriatrische Klinik St. Gallen          77  0.000000   \n",
       "3    2020-08-03               Hirslanden Zürich         243  0.006969   \n",
       "4    2020-08-03             Kantonsspital Baden         671  0.002751   \n",
       "..          ...                             ...         ...       ...   \n",
       "546  2021-01-04                SRRWS Altstätten          49  0.000000   \n",
       "547  2021-01-04                     SRRWS Grabs         177  0.000000   \n",
       "548  2021-01-04                SRRWS Walenstadt          61  0.000000   \n",
       "549  2021-01-04                STGAG Frauenfeld          94  0.010309   \n",
       "550  2021-01-04             STGAG Münsterlingen         105  0.000000   \n",
       "\n",
       "     Sore throat     Cough  Shortness of breath  Runny nose  Limb muscle pain  \\\n",
       "0            NaN       NaN                  NaN         NaN               NaN   \n",
       "1       0.050633  0.012658             0.000000    0.031646          0.031646   \n",
       "2       0.022222  0.011111             0.000000    0.000000          0.000000   \n",
       "3       0.048780  0.052265             0.010453    0.045296          0.034843   \n",
       "4       0.044017  0.022008             0.004127    0.035763          0.019257   \n",
       "..           ...       ...                  ...         ...               ...   \n",
       "546     0.057692  0.038462             0.000000    0.096154          0.038462   \n",
       "547     0.053476  0.069519             0.005348    0.096257          0.058824   \n",
       "548     0.093750  0.031250             0.000000    0.046875          0.015625   \n",
       "549     0.020619  0.041237             0.000000    0.041237          0.020619   \n",
       "550     0.050847  0.050847             0.008475    0.084746          0.008475   \n",
       "\n",
       "     Loss of taste  Positive results      FOPH  Frequency of positives  \\\n",
       "0              NaN          0.000000       NaN                       0   \n",
       "1         0.000000          0.000000  0.050633                       0   \n",
       "2         0.000000          0.000000  0.022222                       0   \n",
       "3         0.003484          0.000000  0.069686                       0   \n",
       "4         0.000000          0.001376  0.052270                       1   \n",
       "..             ...               ...       ...                     ...   \n",
       "546       0.019231          0.019231  0.076923                       1   \n",
       "547       0.037433          0.048128  0.085561                       9   \n",
       "548       0.000000          0.000000  0.109375                       0   \n",
       "549       0.010309          0.010309  0.061856                       1   \n",
       "550       0.016949          0.000000  0.084746                       0   \n",
       "\n",
       "     tested_sars_cov_2_n_true  \n",
       "0                           0  \n",
       "1                           4  \n",
       "2                           2  \n",
       "3                           9  \n",
       "4                          28  \n",
       "..                        ...  \n",
       "546                         2  \n",
       "547                        19  \n",
       "548                         2  \n",
       "549                         5  \n",
       "550                         9  \n",
       "\n",
       "[551 rows x 14 columns]"
      ]
     },
     "execution_count": 198,
     "metadata": {},
     "output_type": "execute_result"
    }
   ],
   "source": [
    "df2"
   ]
  },
  {
   "cell_type": "code",
   "execution_count": 306,
   "metadata": {},
   "outputs": [
    {
     "data": {
      "text/plain": [
       "869"
      ]
     },
     "execution_count": 306,
     "metadata": {},
     "output_type": "execute_result"
    }
   ],
   "source": [
    "len(grouped_df[grouped_df['3'] == True])"
   ]
  },
  {
   "cell_type": "code",
   "execution_count": 381,
   "metadata": {},
   "outputs": [
    {
     "data": {
      "text/plain": [
       "11.142857142857142"
      ]
     },
     "execution_count": 381,
     "metadata": {},
     "output_type": "execute_result"
    }
   ],
   "source": [
    "len(df1[df1['date'] >= '2020-08-03']['date'].unique()) / 7"
   ]
  },
  {
   "cell_type": "code",
   "execution_count": 384,
   "metadata": {},
   "outputs": [
    {
     "data": {
      "text/plain": [
       "array(['2020-08-03', '2020-08-10', '2020-08-17', '2020-08-24',\n",
       "       '2020-08-31', '2020-09-07', '2020-09-14', '2020-09-21',\n",
       "       '2020-09-28', '2020-10-05', '2020-10-12', '2020-10-19',\n",
       "       '2020-10-26', '2020-11-02', '2020-11-09', '2020-11-16',\n",
       "       '2020-11-23', '2020-11-30', '2020-12-07', '2020-12-14',\n",
       "       '2020-12-21', '2020-12-28', '2021-01-04'], dtype=object)"
      ]
     },
     "execution_count": 384,
     "metadata": {},
     "output_type": "execute_result"
    }
   ],
   "source": [
    "df2['date_week'].unique()"
   ]
  },
  {
   "cell_type": "code",
   "execution_count": 385,
   "metadata": {},
   "outputs": [
    {
     "data": {
      "text/html": [
       "<div>\n",
       "<style scoped>\n",
       "    .dataframe tbody tr th:only-of-type {\n",
       "        vertical-align: middle;\n",
       "    }\n",
       "\n",
       "    .dataframe tbody tr th {\n",
       "        vertical-align: top;\n",
       "    }\n",
       "\n",
       "    .dataframe thead th {\n",
       "        text-align: right;\n",
       "    }\n",
       "</style>\n",
       "<table border=\"1\" class=\"dataframe\">\n",
       "  <thead>\n",
       "    <tr style=\"text-align: right;\">\n",
       "      <th></th>\n",
       "      <th>date_week</th>\n",
       "      <th>institution</th>\n",
       "      <th>userId_unq</th>\n",
       "      <th>Fever</th>\n",
       "      <th>Sore throat</th>\n",
       "      <th>Cough</th>\n",
       "      <th>Shortness of breath</th>\n",
       "      <th>Runny nose</th>\n",
       "      <th>Limb muscle pain</th>\n",
       "      <th>Loss of taste</th>\n",
       "      <th>Positive results</th>\n",
       "      <th>FOPH</th>\n",
       "      <th>Frequency of positives</th>\n",
       "      <th>tested_sars_cov_2_n_true</th>\n",
       "    </tr>\n",
       "  </thead>\n",
       "  <tbody>\n",
       "    <tr>\n",
       "      <th>0</th>\n",
       "      <td>2020-08-03</td>\n",
       "      <td>Blutspende SRK Ostschweiz</td>\n",
       "      <td>22</td>\n",
       "      <td>NaN</td>\n",
       "      <td>NaN</td>\n",
       "      <td>NaN</td>\n",
       "      <td>NaN</td>\n",
       "      <td>NaN</td>\n",
       "      <td>NaN</td>\n",
       "      <td>NaN</td>\n",
       "      <td>0.000000</td>\n",
       "      <td>NaN</td>\n",
       "      <td>0</td>\n",
       "      <td>0</td>\n",
       "    </tr>\n",
       "    <tr>\n",
       "      <th>1</th>\n",
       "      <td>2020-08-03</td>\n",
       "      <td>Clienia Littenheid AG</td>\n",
       "      <td>129</td>\n",
       "      <td>0.006329</td>\n",
       "      <td>0.050633</td>\n",
       "      <td>0.012658</td>\n",
       "      <td>0.000000</td>\n",
       "      <td>0.031646</td>\n",
       "      <td>0.031646</td>\n",
       "      <td>0.000000</td>\n",
       "      <td>0.000000</td>\n",
       "      <td>0.050633</td>\n",
       "      <td>0</td>\n",
       "      <td>4</td>\n",
       "    </tr>\n",
       "    <tr>\n",
       "      <th>2</th>\n",
       "      <td>2020-08-03</td>\n",
       "      <td>Geriatrische Klinik St. Gallen</td>\n",
       "      <td>77</td>\n",
       "      <td>0.000000</td>\n",
       "      <td>0.022222</td>\n",
       "      <td>0.011111</td>\n",
       "      <td>0.000000</td>\n",
       "      <td>0.000000</td>\n",
       "      <td>0.000000</td>\n",
       "      <td>0.000000</td>\n",
       "      <td>0.000000</td>\n",
       "      <td>0.022222</td>\n",
       "      <td>0</td>\n",
       "      <td>2</td>\n",
       "    </tr>\n",
       "    <tr>\n",
       "      <th>3</th>\n",
       "      <td>2020-08-03</td>\n",
       "      <td>Hirslanden Zürich</td>\n",
       "      <td>243</td>\n",
       "      <td>0.006969</td>\n",
       "      <td>0.048780</td>\n",
       "      <td>0.052265</td>\n",
       "      <td>0.010453</td>\n",
       "      <td>0.045296</td>\n",
       "      <td>0.034843</td>\n",
       "      <td>0.003484</td>\n",
       "      <td>0.000000</td>\n",
       "      <td>0.069686</td>\n",
       "      <td>0</td>\n",
       "      <td>9</td>\n",
       "    </tr>\n",
       "    <tr>\n",
       "      <th>4</th>\n",
       "      <td>2020-08-03</td>\n",
       "      <td>Kantonsspital Baden</td>\n",
       "      <td>671</td>\n",
       "      <td>0.002751</td>\n",
       "      <td>0.044017</td>\n",
       "      <td>0.022008</td>\n",
       "      <td>0.004127</td>\n",
       "      <td>0.035763</td>\n",
       "      <td>0.019257</td>\n",
       "      <td>0.000000</td>\n",
       "      <td>0.001376</td>\n",
       "      <td>0.052270</td>\n",
       "      <td>1</td>\n",
       "      <td>28</td>\n",
       "    </tr>\n",
       "    <tr>\n",
       "      <th>...</th>\n",
       "      <td>...</td>\n",
       "      <td>...</td>\n",
       "      <td>...</td>\n",
       "      <td>...</td>\n",
       "      <td>...</td>\n",
       "      <td>...</td>\n",
       "      <td>...</td>\n",
       "      <td>...</td>\n",
       "      <td>...</td>\n",
       "      <td>...</td>\n",
       "      <td>...</td>\n",
       "      <td>...</td>\n",
       "      <td>...</td>\n",
       "      <td>...</td>\n",
       "    </tr>\n",
       "    <tr>\n",
       "      <th>546</th>\n",
       "      <td>2021-01-04</td>\n",
       "      <td>SRRWS Altstätten</td>\n",
       "      <td>49</td>\n",
       "      <td>0.000000</td>\n",
       "      <td>0.057692</td>\n",
       "      <td>0.038462</td>\n",
       "      <td>0.000000</td>\n",
       "      <td>0.096154</td>\n",
       "      <td>0.038462</td>\n",
       "      <td>0.019231</td>\n",
       "      <td>0.019231</td>\n",
       "      <td>0.076923</td>\n",
       "      <td>1</td>\n",
       "      <td>2</td>\n",
       "    </tr>\n",
       "    <tr>\n",
       "      <th>547</th>\n",
       "      <td>2021-01-04</td>\n",
       "      <td>SRRWS Grabs</td>\n",
       "      <td>177</td>\n",
       "      <td>0.000000</td>\n",
       "      <td>0.053476</td>\n",
       "      <td>0.069519</td>\n",
       "      <td>0.005348</td>\n",
       "      <td>0.096257</td>\n",
       "      <td>0.058824</td>\n",
       "      <td>0.037433</td>\n",
       "      <td>0.048128</td>\n",
       "      <td>0.085561</td>\n",
       "      <td>9</td>\n",
       "      <td>19</td>\n",
       "    </tr>\n",
       "    <tr>\n",
       "      <th>548</th>\n",
       "      <td>2021-01-04</td>\n",
       "      <td>SRRWS Walenstadt</td>\n",
       "      <td>61</td>\n",
       "      <td>0.000000</td>\n",
       "      <td>0.093750</td>\n",
       "      <td>0.031250</td>\n",
       "      <td>0.000000</td>\n",
       "      <td>0.046875</td>\n",
       "      <td>0.015625</td>\n",
       "      <td>0.000000</td>\n",
       "      <td>0.000000</td>\n",
       "      <td>0.109375</td>\n",
       "      <td>0</td>\n",
       "      <td>2</td>\n",
       "    </tr>\n",
       "    <tr>\n",
       "      <th>549</th>\n",
       "      <td>2021-01-04</td>\n",
       "      <td>STGAG Frauenfeld</td>\n",
       "      <td>94</td>\n",
       "      <td>0.010309</td>\n",
       "      <td>0.020619</td>\n",
       "      <td>0.041237</td>\n",
       "      <td>0.000000</td>\n",
       "      <td>0.041237</td>\n",
       "      <td>0.020619</td>\n",
       "      <td>0.010309</td>\n",
       "      <td>0.010309</td>\n",
       "      <td>0.061856</td>\n",
       "      <td>1</td>\n",
       "      <td>5</td>\n",
       "    </tr>\n",
       "    <tr>\n",
       "      <th>550</th>\n",
       "      <td>2021-01-04</td>\n",
       "      <td>STGAG Münsterlingen</td>\n",
       "      <td>105</td>\n",
       "      <td>0.000000</td>\n",
       "      <td>0.050847</td>\n",
       "      <td>0.050847</td>\n",
       "      <td>0.008475</td>\n",
       "      <td>0.084746</td>\n",
       "      <td>0.008475</td>\n",
       "      <td>0.016949</td>\n",
       "      <td>0.000000</td>\n",
       "      <td>0.084746</td>\n",
       "      <td>0</td>\n",
       "      <td>9</td>\n",
       "    </tr>\n",
       "  </tbody>\n",
       "</table>\n",
       "<p>551 rows × 14 columns</p>\n",
       "</div>"
      ],
      "text/plain": [
       "      date_week                     institution  userId_unq     Fever  \\\n",
       "0    2020-08-03       Blutspende SRK Ostschweiz          22       NaN   \n",
       "1    2020-08-03           Clienia Littenheid AG         129  0.006329   \n",
       "2    2020-08-03  Geriatrische Klinik St. Gallen          77  0.000000   \n",
       "3    2020-08-03               Hirslanden Zürich         243  0.006969   \n",
       "4    2020-08-03             Kantonsspital Baden         671  0.002751   \n",
       "..          ...                             ...         ...       ...   \n",
       "546  2021-01-04                SRRWS Altstätten          49  0.000000   \n",
       "547  2021-01-04                     SRRWS Grabs         177  0.000000   \n",
       "548  2021-01-04                SRRWS Walenstadt          61  0.000000   \n",
       "549  2021-01-04                STGAG Frauenfeld          94  0.010309   \n",
       "550  2021-01-04             STGAG Münsterlingen         105  0.000000   \n",
       "\n",
       "     Sore throat     Cough  Shortness of breath  Runny nose  Limb muscle pain  \\\n",
       "0            NaN       NaN                  NaN         NaN               NaN   \n",
       "1       0.050633  0.012658             0.000000    0.031646          0.031646   \n",
       "2       0.022222  0.011111             0.000000    0.000000          0.000000   \n",
       "3       0.048780  0.052265             0.010453    0.045296          0.034843   \n",
       "4       0.044017  0.022008             0.004127    0.035763          0.019257   \n",
       "..           ...       ...                  ...         ...               ...   \n",
       "546     0.057692  0.038462             0.000000    0.096154          0.038462   \n",
       "547     0.053476  0.069519             0.005348    0.096257          0.058824   \n",
       "548     0.093750  0.031250             0.000000    0.046875          0.015625   \n",
       "549     0.020619  0.041237             0.000000    0.041237          0.020619   \n",
       "550     0.050847  0.050847             0.008475    0.084746          0.008475   \n",
       "\n",
       "     Loss of taste  Positive results      FOPH  Frequency of positives  \\\n",
       "0              NaN          0.000000       NaN                       0   \n",
       "1         0.000000          0.000000  0.050633                       0   \n",
       "2         0.000000          0.000000  0.022222                       0   \n",
       "3         0.003484          0.000000  0.069686                       0   \n",
       "4         0.000000          0.001376  0.052270                       1   \n",
       "..             ...               ...       ...                     ...   \n",
       "546       0.019231          0.019231  0.076923                       1   \n",
       "547       0.037433          0.048128  0.085561                       9   \n",
       "548       0.000000          0.000000  0.109375                       0   \n",
       "549       0.010309          0.010309  0.061856                       1   \n",
       "550       0.016949          0.000000  0.084746                       0   \n",
       "\n",
       "     tested_sars_cov_2_n_true  \n",
       "0                           0  \n",
       "1                           4  \n",
       "2                           2  \n",
       "3                           9  \n",
       "4                          28  \n",
       "..                        ...  \n",
       "546                         2  \n",
       "547                        19  \n",
       "548                         2  \n",
       "549                         5  \n",
       "550                         9  \n",
       "\n",
       "[551 rows x 14 columns]"
      ]
     },
     "execution_count": 385,
     "metadata": {},
     "output_type": "execute_result"
    }
   ],
   "source": [
    "df2"
   ]
  }
 ],
 "metadata": {
  "kernelspec": {
   "display_name": "Python 3",
   "language": "python",
   "name": "python3"
  },
  "language_info": {
   "codemirror_mode": {
    "name": "ipython",
    "version": 3
   },
   "file_extension": ".py",
   "mimetype": "text/x-python",
   "name": "python",
   "nbconvert_exporter": "python",
   "pygments_lexer": "ipython3",
   "version": "3.8.5"
  }
 },
 "nbformat": 4,
 "nbformat_minor": 4
}
